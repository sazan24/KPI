{
 "cells": [
  {
   "cell_type": "markdown",
   "id": "85924baf-e5ab-44a4-ac44-f4ccf1c529d4",
   "metadata": {},
   "source": [
    "<div style=\"text-align: center;\">\r\n",
    "    <img src=\"https://user-images.githubusercontent.com/86345471/221379942-51f24819-1f76-4289-8dee-06ea69f730f6.png\" alt=Main \"KPI />\r\n",
    "</d>\r\n"
   ]
  },
  {
   "cell_type": "markdown",
   "id": "13588f26-5b03-41d2-bed8-797eb9e475c9",
   "metadata": {},
   "source": [
    "<hr>"
   ]
  },
  {
   "cell_type": "markdown",
   "id": "d1309ea0-d06b-42d8-ad47-80fa895adc82",
   "metadata": {},
   "source": [
    "**Завдання**: Використовуючи модель логістичної регресії, виконати класифікацію програмного забезпечення на шкідливе та безпечне на даних датасету\r\n",
    "https://www.kaggle.com/datasets/piyushrumao/malware-executable-detection\r\n"
   ]
  },
  {
   "cell_type": "markdown",
   "id": "b428480f-ae08-4821-993f-6d0bb876197a",
   "metadata": {},
   "source": [
    "**Теорія**: Модель логістичної регресії (Linear Regression) – це статистичний метод, який використовується для вирішення задач класифікації. Вона передбачає ймовірність належності об'єкта до одного з двох класів (бінарна класифікація). Хоча назва включає слово \"регресія\", цей метод використовується для класифікації, а не для передбачення неперервних значень, як у випадку лінійної регресії."
   ]
  },
  {
   "cell_type": "markdown",
   "id": "35503889-dfcb-48d6-87ab-2361f2da2ce7",
   "metadata": {},
   "source": [
    "<hr>"
   ]
  },
  {
   "cell_type": "markdown",
   "id": "fe35c60d-2ad2-4ce9-b94a-d42882fb5b7a",
   "metadata": {},
   "source": [
    "### 1. Імпорт бібліотек"
   ]
  },
  {
   "cell_type": "code",
   "execution_count": 1,
   "id": "1a36fda9-c62a-4a0c-8bbe-e08cb287e614",
   "metadata": {},
   "outputs": [],
   "source": [
    "import pandas as pd\n",
    "\n",
    "from sklearn.model_selection import train_test_split\n",
    "from sklearn.preprocessing import StandardScaler, LabelEncoder\n",
    "from sklearn.linear_model import LogisticRegression\n",
    "from sklearn.metrics import classification_report, confusion_matrix\n",
    "\n",
    "import matplotlib.pyplot as plt\n",
    "import seaborn as sns\n",
    "\n",
    "from sklearn.metrics import roc_curve, auc\n",
    "from sklearn.metrics import precision_recall_curve\n",
    "from sklearn.metrics import roc_auc_score "
   ]
  },
  {
   "cell_type": "markdown",
   "id": "49c902f5-0b90-4839-b068-406b649b1f77",
   "metadata": {},
   "source": [
    "### 2. Завантаження даних"
   ]
  },
  {
   "cell_type": "code",
   "execution_count": 2,
   "id": "32996e48-f605-47ac-8a7a-a22ce707b271",
   "metadata": {},
   "outputs": [],
   "source": [
    "file_path = './uci_malware_detection.csv'\n",
    "df = pd.read_csv(file_path)"
   ]
  },
  {
   "cell_type": "markdown",
   "id": "5325ab25-2305-42f4-96a1-64e81984b0e5",
   "metadata": {},
   "source": [
    "### 3. Огляд даних"
   ]
  },
  {
   "cell_type": "code",
   "execution_count": 3,
   "id": "0ef3c557-af98-428d-94b5-caaced4aeacf",
   "metadata": {},
   "outputs": [
    {
     "name": "stdout",
     "output_type": "stream",
     "text": [
      "<class 'pandas.core.frame.DataFrame'>\n",
      "RangeIndex: 373 entries, 0 to 372\n",
      "Columns: 532 entries, Label to F_531\n",
      "dtypes: int64(531), object(1)\n",
      "memory usage: 1.5+ MB\n"
     ]
    }
   ],
   "source": [
    "df.info()"
   ]
  },
  {
   "cell_type": "code",
   "execution_count": 4,
   "id": "d1698722-5148-408f-80dd-f2f2ccbd586b",
   "metadata": {},
   "outputs": [
    {
     "data": {
      "text/html": [
       "<div>\n",
       "<style scoped>\n",
       "    .dataframe tbody tr th:only-of-type {\n",
       "        vertical-align: middle;\n",
       "    }\n",
       "\n",
       "    .dataframe tbody tr th {\n",
       "        vertical-align: top;\n",
       "    }\n",
       "\n",
       "    .dataframe thead th {\n",
       "        text-align: right;\n",
       "    }\n",
       "</style>\n",
       "<table border=\"1\" class=\"dataframe\">\n",
       "  <thead>\n",
       "    <tr style=\"text-align: right;\">\n",
       "      <th></th>\n",
       "      <th>F_1</th>\n",
       "      <th>F_2</th>\n",
       "      <th>F_3</th>\n",
       "      <th>F_4</th>\n",
       "      <th>F_5</th>\n",
       "      <th>F_6</th>\n",
       "      <th>F_7</th>\n",
       "      <th>F_8</th>\n",
       "      <th>F_9</th>\n",
       "      <th>F_10</th>\n",
       "      <th>...</th>\n",
       "      <th>F_522</th>\n",
       "      <th>F_523</th>\n",
       "      <th>F_524</th>\n",
       "      <th>F_525</th>\n",
       "      <th>F_526</th>\n",
       "      <th>F_527</th>\n",
       "      <th>F_528</th>\n",
       "      <th>F_529</th>\n",
       "      <th>F_530</th>\n",
       "      <th>F_531</th>\n",
       "    </tr>\n",
       "  </thead>\n",
       "  <tbody>\n",
       "    <tr>\n",
       "      <th>count</th>\n",
       "      <td>373.000000</td>\n",
       "      <td>373.0</td>\n",
       "      <td>373.000000</td>\n",
       "      <td>373.000000</td>\n",
       "      <td>373.000000</td>\n",
       "      <td>373.0</td>\n",
       "      <td>373.000000</td>\n",
       "      <td>373.0</td>\n",
       "      <td>373.000000</td>\n",
       "      <td>373.0</td>\n",
       "      <td>...</td>\n",
       "      <td>373.00000</td>\n",
       "      <td>373.000000</td>\n",
       "      <td>373.000000</td>\n",
       "      <td>373.000000</td>\n",
       "      <td>373.000000</td>\n",
       "      <td>373.000000</td>\n",
       "      <td>373.000000</td>\n",
       "      <td>373.000000</td>\n",
       "      <td>373.000000</td>\n",
       "      <td>373.000000</td>\n",
       "    </tr>\n",
       "    <tr>\n",
       "      <th>mean</th>\n",
       "      <td>0.997319</td>\n",
       "      <td>0.0</td>\n",
       "      <td>0.994638</td>\n",
       "      <td>0.002681</td>\n",
       "      <td>0.994638</td>\n",
       "      <td>0.0</td>\n",
       "      <td>0.994638</td>\n",
       "      <td>0.0</td>\n",
       "      <td>0.994638</td>\n",
       "      <td>0.0</td>\n",
       "      <td>...</td>\n",
       "      <td>0.10992</td>\n",
       "      <td>0.107239</td>\n",
       "      <td>0.088472</td>\n",
       "      <td>0.099196</td>\n",
       "      <td>0.522788</td>\n",
       "      <td>0.040214</td>\n",
       "      <td>0.091153</td>\n",
       "      <td>0.080429</td>\n",
       "      <td>0.530831</td>\n",
       "      <td>0.144772</td>\n",
       "    </tr>\n",
       "    <tr>\n",
       "      <th>std</th>\n",
       "      <td>0.051778</td>\n",
       "      <td>0.0</td>\n",
       "      <td>0.073127</td>\n",
       "      <td>0.051778</td>\n",
       "      <td>0.073127</td>\n",
       "      <td>0.0</td>\n",
       "      <td>0.073127</td>\n",
       "      <td>0.0</td>\n",
       "      <td>0.073127</td>\n",
       "      <td>0.0</td>\n",
       "      <td>...</td>\n",
       "      <td>0.31321</td>\n",
       "      <td>0.309832</td>\n",
       "      <td>0.284361</td>\n",
       "      <td>0.299326</td>\n",
       "      <td>0.500151</td>\n",
       "      <td>0.196726</td>\n",
       "      <td>0.288213</td>\n",
       "      <td>0.272321</td>\n",
       "      <td>0.499719</td>\n",
       "      <td>0.352344</td>\n",
       "    </tr>\n",
       "    <tr>\n",
       "      <th>min</th>\n",
       "      <td>0.000000</td>\n",
       "      <td>0.0</td>\n",
       "      <td>0.000000</td>\n",
       "      <td>0.000000</td>\n",
       "      <td>0.000000</td>\n",
       "      <td>0.0</td>\n",
       "      <td>0.000000</td>\n",
       "      <td>0.0</td>\n",
       "      <td>0.000000</td>\n",
       "      <td>0.0</td>\n",
       "      <td>...</td>\n",
       "      <td>0.00000</td>\n",
       "      <td>0.000000</td>\n",
       "      <td>0.000000</td>\n",
       "      <td>0.000000</td>\n",
       "      <td>0.000000</td>\n",
       "      <td>0.000000</td>\n",
       "      <td>0.000000</td>\n",
       "      <td>0.000000</td>\n",
       "      <td>0.000000</td>\n",
       "      <td>0.000000</td>\n",
       "    </tr>\n",
       "    <tr>\n",
       "      <th>25%</th>\n",
       "      <td>1.000000</td>\n",
       "      <td>0.0</td>\n",
       "      <td>1.000000</td>\n",
       "      <td>0.000000</td>\n",
       "      <td>1.000000</td>\n",
       "      <td>0.0</td>\n",
       "      <td>1.000000</td>\n",
       "      <td>0.0</td>\n",
       "      <td>1.000000</td>\n",
       "      <td>0.0</td>\n",
       "      <td>...</td>\n",
       "      <td>0.00000</td>\n",
       "      <td>0.000000</td>\n",
       "      <td>0.000000</td>\n",
       "      <td>0.000000</td>\n",
       "      <td>0.000000</td>\n",
       "      <td>0.000000</td>\n",
       "      <td>0.000000</td>\n",
       "      <td>0.000000</td>\n",
       "      <td>0.000000</td>\n",
       "      <td>0.000000</td>\n",
       "    </tr>\n",
       "    <tr>\n",
       "      <th>50%</th>\n",
       "      <td>1.000000</td>\n",
       "      <td>0.0</td>\n",
       "      <td>1.000000</td>\n",
       "      <td>0.000000</td>\n",
       "      <td>1.000000</td>\n",
       "      <td>0.0</td>\n",
       "      <td>1.000000</td>\n",
       "      <td>0.0</td>\n",
       "      <td>1.000000</td>\n",
       "      <td>0.0</td>\n",
       "      <td>...</td>\n",
       "      <td>0.00000</td>\n",
       "      <td>0.000000</td>\n",
       "      <td>0.000000</td>\n",
       "      <td>0.000000</td>\n",
       "      <td>1.000000</td>\n",
       "      <td>0.000000</td>\n",
       "      <td>0.000000</td>\n",
       "      <td>0.000000</td>\n",
       "      <td>1.000000</td>\n",
       "      <td>0.000000</td>\n",
       "    </tr>\n",
       "    <tr>\n",
       "      <th>75%</th>\n",
       "      <td>1.000000</td>\n",
       "      <td>0.0</td>\n",
       "      <td>1.000000</td>\n",
       "      <td>0.000000</td>\n",
       "      <td>1.000000</td>\n",
       "      <td>0.0</td>\n",
       "      <td>1.000000</td>\n",
       "      <td>0.0</td>\n",
       "      <td>1.000000</td>\n",
       "      <td>0.0</td>\n",
       "      <td>...</td>\n",
       "      <td>0.00000</td>\n",
       "      <td>0.000000</td>\n",
       "      <td>0.000000</td>\n",
       "      <td>0.000000</td>\n",
       "      <td>1.000000</td>\n",
       "      <td>0.000000</td>\n",
       "      <td>0.000000</td>\n",
       "      <td>0.000000</td>\n",
       "      <td>1.000000</td>\n",
       "      <td>0.000000</td>\n",
       "    </tr>\n",
       "    <tr>\n",
       "      <th>max</th>\n",
       "      <td>1.000000</td>\n",
       "      <td>0.0</td>\n",
       "      <td>1.000000</td>\n",
       "      <td>1.000000</td>\n",
       "      <td>1.000000</td>\n",
       "      <td>0.0</td>\n",
       "      <td>1.000000</td>\n",
       "      <td>0.0</td>\n",
       "      <td>1.000000</td>\n",
       "      <td>0.0</td>\n",
       "      <td>...</td>\n",
       "      <td>1.00000</td>\n",
       "      <td>1.000000</td>\n",
       "      <td>1.000000</td>\n",
       "      <td>1.000000</td>\n",
       "      <td>1.000000</td>\n",
       "      <td>1.000000</td>\n",
       "      <td>1.000000</td>\n",
       "      <td>1.000000</td>\n",
       "      <td>1.000000</td>\n",
       "      <td>1.000000</td>\n",
       "    </tr>\n",
       "  </tbody>\n",
       "</table>\n",
       "<p>8 rows × 531 columns</p>\n",
       "</div>"
      ],
      "text/plain": [
       "              F_1    F_2         F_3         F_4         F_5    F_6  \\\n",
       "count  373.000000  373.0  373.000000  373.000000  373.000000  373.0   \n",
       "mean     0.997319    0.0    0.994638    0.002681    0.994638    0.0   \n",
       "std      0.051778    0.0    0.073127    0.051778    0.073127    0.0   \n",
       "min      0.000000    0.0    0.000000    0.000000    0.000000    0.0   \n",
       "25%      1.000000    0.0    1.000000    0.000000    1.000000    0.0   \n",
       "50%      1.000000    0.0    1.000000    0.000000    1.000000    0.0   \n",
       "75%      1.000000    0.0    1.000000    0.000000    1.000000    0.0   \n",
       "max      1.000000    0.0    1.000000    1.000000    1.000000    0.0   \n",
       "\n",
       "              F_7    F_8         F_9   F_10  ...      F_522       F_523  \\\n",
       "count  373.000000  373.0  373.000000  373.0  ...  373.00000  373.000000   \n",
       "mean     0.994638    0.0    0.994638    0.0  ...    0.10992    0.107239   \n",
       "std      0.073127    0.0    0.073127    0.0  ...    0.31321    0.309832   \n",
       "min      0.000000    0.0    0.000000    0.0  ...    0.00000    0.000000   \n",
       "25%      1.000000    0.0    1.000000    0.0  ...    0.00000    0.000000   \n",
       "50%      1.000000    0.0    1.000000    0.0  ...    0.00000    0.000000   \n",
       "75%      1.000000    0.0    1.000000    0.0  ...    0.00000    0.000000   \n",
       "max      1.000000    0.0    1.000000    0.0  ...    1.00000    1.000000   \n",
       "\n",
       "            F_524       F_525       F_526       F_527       F_528       F_529  \\\n",
       "count  373.000000  373.000000  373.000000  373.000000  373.000000  373.000000   \n",
       "mean     0.088472    0.099196    0.522788    0.040214    0.091153    0.080429   \n",
       "std      0.284361    0.299326    0.500151    0.196726    0.288213    0.272321   \n",
       "min      0.000000    0.000000    0.000000    0.000000    0.000000    0.000000   \n",
       "25%      0.000000    0.000000    0.000000    0.000000    0.000000    0.000000   \n",
       "50%      0.000000    0.000000    1.000000    0.000000    0.000000    0.000000   \n",
       "75%      0.000000    0.000000    1.000000    0.000000    0.000000    0.000000   \n",
       "max      1.000000    1.000000    1.000000    1.000000    1.000000    1.000000   \n",
       "\n",
       "            F_530       F_531  \n",
       "count  373.000000  373.000000  \n",
       "mean     0.530831    0.144772  \n",
       "std      0.499719    0.352344  \n",
       "min      0.000000    0.000000  \n",
       "25%      0.000000    0.000000  \n",
       "50%      1.000000    0.000000  \n",
       "75%      1.000000    0.000000  \n",
       "max      1.000000    1.000000  \n",
       "\n",
       "[8 rows x 531 columns]"
      ]
     },
     "execution_count": 4,
     "metadata": {},
     "output_type": "execute_result"
    }
   ],
   "source": [
    "df.describe()"
   ]
  },
  {
   "cell_type": "code",
   "execution_count": 5,
   "id": "0f64c8cd-d5dd-407f-9440-ddb9048fda6a",
   "metadata": {},
   "outputs": [
    {
     "data": {
      "text/plain": [
       "malicious        301\n",
       "non-malicious     72\n",
       "Name: Label, dtype: int64"
      ]
     },
     "execution_count": 5,
     "metadata": {},
     "output_type": "execute_result"
    }
   ],
   "source": [
    "df['Label'].value_counts()"
   ]
  },
  {
   "cell_type": "code",
   "execution_count": 6,
   "id": "0943ed2e-94b5-4117-8dad-2a3137731d24",
   "metadata": {},
   "outputs": [],
   "source": [
    "if df.isnull().sum().any():\n",
    "    df = df.dropna()"
   ]
  },
  {
   "cell_type": "markdown",
   "id": "d5eeff27-c683-40fa-b9d5-62c5b2c2b37e",
   "metadata": {},
   "source": [
    "### 4. Попередня обробка даних"
   ]
  },
  {
   "cell_type": "code",
   "execution_count": 7,
   "id": "7628c0cf-ed5e-44c0-bb0d-4fc7aa7a5b47",
   "metadata": {},
   "outputs": [],
   "source": [
    "label_encoder = LabelEncoder()\n",
    "df['Label'] = label_encoder.fit_transform(df['Label'])"
   ]
  },
  {
   "cell_type": "code",
   "execution_count": 8,
   "id": "f9a62ae5-037e-4101-a034-4aa348608630",
   "metadata": {},
   "outputs": [],
   "source": [
    "X = df.drop(columns=['Label'])\n",
    "y = df['Label']"
   ]
  },
  {
   "cell_type": "markdown",
   "id": "4e8389b1-b3f8-44e3-8947-1bfb5a335066",
   "metadata": {},
   "source": [
    "### 5. Розділення на навчальні та тестові дані"
   ]
  },
  {
   "cell_type": "code",
   "execution_count": 9,
   "id": "3bc1c1ea-4920-4a14-9ae8-7f354961b718",
   "metadata": {},
   "outputs": [],
   "source": [
    "X_train, X_test, y_train, y_test = train_test_split(X, y, test_size=0.25, random_state=42)"
   ]
  },
  {
   "cell_type": "markdown",
   "id": "503c78a8-ff33-46a5-96ff-6c152282984b",
   "metadata": {},
   "source": [
    "### 6. Стандартизація даних"
   ]
  },
  {
   "cell_type": "code",
   "execution_count": 10,
   "id": "a10a9d04-9ae2-4106-800b-8e1f43ee938a",
   "metadata": {},
   "outputs": [],
   "source": [
    "scaler = StandardScaler()\n",
    "X_train_scaled = scaler.fit_transform(X_train)\n",
    "X_test_scaled = scaler.transform(X_test)"
   ]
  },
  {
   "cell_type": "markdown",
   "id": "209b1e93-3750-4159-a1e7-cb6290f6491c",
   "metadata": {},
   "source": [
    "###  7. Навчання моделі логістичної регресії"
   ]
  },
  {
   "cell_type": "code",
   "execution_count": 11,
   "id": "b5a90e6b-ab86-477a-aaf1-f19142ee2414",
   "metadata": {},
   "outputs": [
    {
     "data": {
      "text/html": [
       "<style>#sk-container-id-1 {color: black;background-color: white;}#sk-container-id-1 pre{padding: 0;}#sk-container-id-1 div.sk-toggleable {background-color: white;}#sk-container-id-1 label.sk-toggleable__label {cursor: pointer;display: block;width: 100%;margin-bottom: 0;padding: 0.3em;box-sizing: border-box;text-align: center;}#sk-container-id-1 label.sk-toggleable__label-arrow:before {content: \"▸\";float: left;margin-right: 0.25em;color: #696969;}#sk-container-id-1 label.sk-toggleable__label-arrow:hover:before {color: black;}#sk-container-id-1 div.sk-estimator:hover label.sk-toggleable__label-arrow:before {color: black;}#sk-container-id-1 div.sk-toggleable__content {max-height: 0;max-width: 0;overflow: hidden;text-align: left;background-color: #f0f8ff;}#sk-container-id-1 div.sk-toggleable__content pre {margin: 0.2em;color: black;border-radius: 0.25em;background-color: #f0f8ff;}#sk-container-id-1 input.sk-toggleable__control:checked~div.sk-toggleable__content {max-height: 200px;max-width: 100%;overflow: auto;}#sk-container-id-1 input.sk-toggleable__control:checked~label.sk-toggleable__label-arrow:before {content: \"▾\";}#sk-container-id-1 div.sk-estimator input.sk-toggleable__control:checked~label.sk-toggleable__label {background-color: #d4ebff;}#sk-container-id-1 div.sk-label input.sk-toggleable__control:checked~label.sk-toggleable__label {background-color: #d4ebff;}#sk-container-id-1 input.sk-hidden--visually {border: 0;clip: rect(1px 1px 1px 1px);clip: rect(1px, 1px, 1px, 1px);height: 1px;margin: -1px;overflow: hidden;padding: 0;position: absolute;width: 1px;}#sk-container-id-1 div.sk-estimator {font-family: monospace;background-color: #f0f8ff;border: 1px dotted black;border-radius: 0.25em;box-sizing: border-box;margin-bottom: 0.5em;}#sk-container-id-1 div.sk-estimator:hover {background-color: #d4ebff;}#sk-container-id-1 div.sk-parallel-item::after {content: \"\";width: 100%;border-bottom: 1px solid gray;flex-grow: 1;}#sk-container-id-1 div.sk-label:hover label.sk-toggleable__label {background-color: #d4ebff;}#sk-container-id-1 div.sk-serial::before {content: \"\";position: absolute;border-left: 1px solid gray;box-sizing: border-box;top: 0;bottom: 0;left: 50%;z-index: 0;}#sk-container-id-1 div.sk-serial {display: flex;flex-direction: column;align-items: center;background-color: white;padding-right: 0.2em;padding-left: 0.2em;position: relative;}#sk-container-id-1 div.sk-item {position: relative;z-index: 1;}#sk-container-id-1 div.sk-parallel {display: flex;align-items: stretch;justify-content: center;background-color: white;position: relative;}#sk-container-id-1 div.sk-item::before, #sk-container-id-1 div.sk-parallel-item::before {content: \"\";position: absolute;border-left: 1px solid gray;box-sizing: border-box;top: 0;bottom: 0;left: 50%;z-index: -1;}#sk-container-id-1 div.sk-parallel-item {display: flex;flex-direction: column;z-index: 1;position: relative;background-color: white;}#sk-container-id-1 div.sk-parallel-item:first-child::after {align-self: flex-end;width: 50%;}#sk-container-id-1 div.sk-parallel-item:last-child::after {align-self: flex-start;width: 50%;}#sk-container-id-1 div.sk-parallel-item:only-child::after {width: 0;}#sk-container-id-1 div.sk-dashed-wrapped {border: 1px dashed gray;margin: 0 0.4em 0.5em 0.4em;box-sizing: border-box;padding-bottom: 0.4em;background-color: white;}#sk-container-id-1 div.sk-label label {font-family: monospace;font-weight: bold;display: inline-block;line-height: 1.2em;}#sk-container-id-1 div.sk-label-container {text-align: center;}#sk-container-id-1 div.sk-container {/* jupyter's `normalize.less` sets `[hidden] { display: none; }` but bootstrap.min.css set `[hidden] { display: none !important; }` so we also need the `!important` here to be able to override the default hidden behavior on the sphinx rendered scikit-learn.org. See: https://github.com/scikit-learn/scikit-learn/issues/21755 */display: inline-block !important;position: relative;}#sk-container-id-1 div.sk-text-repr-fallback {display: none;}</style><div id=\"sk-container-id-1\" class=\"sk-top-container\"><div class=\"sk-text-repr-fallback\"><pre>LogisticRegression(max_iter=1000, solver=&#x27;liblinear&#x27;)</pre><b>In a Jupyter environment, please rerun this cell to show the HTML representation or trust the notebook. <br />On GitHub, the HTML representation is unable to render, please try loading this page with nbviewer.org.</b></div><div class=\"sk-container\" hidden><div class=\"sk-item\"><div class=\"sk-estimator sk-toggleable\"><input class=\"sk-toggleable__control sk-hidden--visually\" id=\"sk-estimator-id-1\" type=\"checkbox\" checked><label for=\"sk-estimator-id-1\" class=\"sk-toggleable__label sk-toggleable__label-arrow\">LogisticRegression</label><div class=\"sk-toggleable__content\"><pre>LogisticRegression(max_iter=1000, solver=&#x27;liblinear&#x27;)</pre></div></div></div></div></div>"
      ],
      "text/plain": [
       "LogisticRegression(max_iter=1000, solver='liblinear')"
      ]
     },
     "execution_count": 11,
     "metadata": {},
     "output_type": "execute_result"
    }
   ],
   "source": [
    "logreg = LogisticRegression(max_iter=1000, solver='liblinear')\n",
    "logreg.fit(X_train, y_train)"
   ]
  },
  {
   "cell_type": "markdown",
   "id": "666c0a28-4ce7-4321-b7b5-db72d28191b5",
   "metadata": {},
   "source": [
    "### 8. Прогнозування"
   ]
  },
  {
   "cell_type": "code",
   "execution_count": 12,
   "id": "dae8e07a-9396-4780-8394-79d4acd4ef5f",
   "metadata": {},
   "outputs": [],
   "source": [
    "y_pred = logreg.predict(X_test)"
   ]
  },
  {
   "cell_type": "markdown",
   "id": "b8ed2333-bc10-4c11-b6b6-727496038b21",
   "metadata": {},
   "source": [
    "### 9. Оцінка моделі"
   ]
  },
  {
   "cell_type": "code",
   "execution_count": 13,
   "id": "21efe32c-a0c2-4f1b-9b2c-c8beaf022cdb",
   "metadata": {},
   "outputs": [
    {
     "name": "stdout",
     "output_type": "stream",
     "text": [
      "Classification Report:\n",
      "               precision    recall  f1-score   support\n",
      "\n",
      "           0       1.00      0.99      0.99        73\n",
      "           1       0.95      1.00      0.98        21\n",
      "\n",
      "    accuracy                           0.99        94\n",
      "   macro avg       0.98      0.99      0.98        94\n",
      "weighted avg       0.99      0.99      0.99        94\n",
      "\n",
      "Confusion Matrix:\n",
      " [[72  1]\n",
      " [ 0 21]]\n"
     ]
    }
   ],
   "source": [
    "report = classification_report(y_test, y_pred)\n",
    "conf_matrix = confusion_matrix(y_test, y_pred)\n",
    "\n",
    "print(\"Classification Report:\\n\", report)\n",
    "print(\"Confusion Matrix:\\n\", conf_matrix)"
   ]
  },
  {
   "cell_type": "markdown",
   "id": "06ecf213-7b2a-41d8-9662-ccd23bfcdba9",
   "metadata": {},
   "source": [
    "### 10. Візуалізація результатів"
   ]
  },
  {
   "cell_type": "code",
   "execution_count": 14,
   "id": "935a9679-0063-42d2-a432-765a74d3b1b0",
   "metadata": {},
   "outputs": [
    {
     "data": {
      "image/png": "[encoded data removed]",
      "text/plain": [
       "<Figure size 720x576 with 2 Axes>"
      ]
     },
     "metadata": {
      "needs_background": "light"
     },
     "output_type": "display_data"
    }
   ],
   "source": [
    "plt.figure(figsize=(10, 8))\n",
    "sns.heatmap(conf_matrix, annot=True, fmt='d', cmap='YlGnBu',\n",
    "            xticklabels=label_encoder.classes_,\n",
    "            yticklabels=label_encoder.classes_)\n",
    "plt.xlabel('Predicted Values')\n",
    "plt.ylabel('Actual Values')\n",
    "plt.title('Confusion Matrix')\n",
    "plt.show()"
   ]
  },
  {
   "cell_type": "markdown",
   "id": "6f761e73-bedf-4c3f-a0df-8a1f39c39877",
   "metadata": {},
   "source": [
    "<hr>"
   ]
  },
  {
   "cell_type": "code",
   "execution_count": 15,
   "id": "d6c1ac44-58d4-45ec-87ed-22f6e02caa18",
   "metadata": {},
   "outputs": [],
   "source": [
    "import warnings\n",
    "warnings.filterwarnings(\"ignore\", category=UserWarning)"
   ]
  },
  {
   "cell_type": "code",
   "execution_count": 16,
   "id": "a67fba69-d81c-4d2a-b0a2-fa23d32104a9",
   "metadata": {},
   "outputs": [
    {
     "data": {
      "text/plain": [
       "Text(0.3, 0.8, 'ROC Curve')"
      ]
     },
     "execution_count": 16,
     "metadata": {},
     "output_type": "execute_result"
    },
    {
     "data": {
      "image/png": "[encoded data removed]",
      "text/plain": [
       "<Figure size 576x576 with 1 Axes>"
      ]
     },
     "metadata": {
      "needs_background": "light"
     },
     "output_type": "display_data"
    }
   ],
   "source": [
    "probabilities = logreg.predict_proba(X_test)[:, 1]\n",
    "fpr, tpr, thresholds = roc_curve(y_test, probabilities)\n",
    "%matplotlib inline\n",
    "\n",
    "plt.figure(figsize=(8, 8))\n",
    "plt.plot(fpr, tpr)\n",
    "plt.plot([0, 1], [0, 1], color=\"black\", linestyle=\"--\")\n",
    "\n",
    "plt.xlabel(\"False Positive Rate - FPR\")\n",
    "plt.ylabel(\"True Positive Rate - TPR \")\n",
    "plt.title(\"Receiver Operating Characteristics - ROC Curve\")\n",
    "plt.text(0.6, 0.5, \"Baseline\")\n",
    "plt.text(0.3, 0.8, \"ROC Curve\")"
   ]
  },
  {
   "cell_type": "code",
   "execution_count": 17,
   "id": "3c04a10a-a2f5-46aa-bb7a-d2eac224261d",
   "metadata": {},
   "outputs": [
    {
     "name": "stdout",
     "output_type": "stream",
     "text": [
      "Area Under the Curve: 0.997\n"
     ]
    }
   ],
   "source": [
    "print(\"Area Under the Curve:\", round(roc_auc_score(y_test, probabilities), 3))"
   ]
  },
  {
   "cell_type": "code",
   "execution_count": 18,
   "id": "1518ba8b-f2a4-4d4b-8b19-06f53c844ccf",
   "metadata": {},
   "outputs": [
    {
     "data": {
      "text/plain": [
       "<matplotlib.legend.Legend at 0x1c52a3e1060>"
      ]
     },
     "execution_count": 18,
     "metadata": {},
     "output_type": "execute_result"
    },
    {
     "data": {
      "image/png": "[encoded data removed]",
      "text/plain": [
       "<Figure size 576x576 with 1 Axes>"
      ]
     },
     "metadata": {
      "needs_background": "light"
     },
     "output_type": "display_data"
    }
   ],
   "source": [
    "y_pred_proba = logreg.predict_proba(X_test)[:, 1]\n",
    "precision, recall, thresholds = precision_recall_curve(y_test, y_pred_proba)\n",
    "\n",
    "fig, ax = plt.subplots(figsize=(8, 8))\n",
    "ax.plot(recall, precision, label='logistic regression', color='firebrick')\n",
    "ax.set_title('Precision-Recall Curve')\n",
    "ax.set_xlabel('Recall')\n",
    "ax.set_ylabel('Precision')\n",
    "\n",
    "ax.legend()"
   ]
  },
  {
   "cell_type": "markdown",
   "id": "88673531-592a-4871-8caf-fa1032036073",
   "metadata": {},
   "source": [
    "<hr>"
   ]
  },
  {
   "cell_type": "markdown",
   "id": "5f2b4261-cbd9-4903-9b8c-eba0e649ee30",
   "metadata": {},
   "source": [
    "**Отже, модель досить добре справляється з класифікацією шкідливого програмного забезпечення, показуючи високу точність і повноту.**"
   ]
  },
  {
   "cell_type": "code",
   "execution_count": null,
   "id": "5fbb7484-ab00-4cce-bbc9-dddd23b15d05",
   "metadata": {},
   "outputs": [],
   "source": []
  }
 ],
 "metadata": {
  "kernelspec": {
   "display_name": "Python 3 (ipykernel)",
   "language": "python",
   "name": "python3"
  },
  "language_info": {
   "codemirror_mode": {
    "name": "ipython",
    "version": 3
   },
   "file_extension": ".py",
   "mimetype": "text/x-python",
   "name": "python",
   "nbconvert_exporter": "python",
   "pygments_lexer": "ipython3",
   "version": "3.10.2"
  }
 },
 "nbformat": 4,
 "nbformat_minor": 5
}
