{
 "cells": [
  {
   "cell_type": "code",
   "execution_count": 1,
   "id": "51fb5215-5141-467f-8aa5-9bdea7161569",
   "metadata": {},
   "outputs": [],
   "source": [
    "from neo4j import GraphDatabase\n",
    "import threading\n",
    "import time"
   ]
  },
  {
   "cell_type": "markdown",
   "id": "b5136e63-55f4-4978-aba4-ef3de7296461",
   "metadata": {},
   "source": [
    "<hr>"
   ]
  },
  {
   "cell_type": "code",
   "execution_count": 2,
   "id": "a79fce9a-dab8-45c4-b9ea-9b2e95d9fb26",
   "metadata": {},
   "outputs": [],
   "source": [
    "# Параметри з'єднання з Neo4j\n",
    "uri = \"bolt://localhost:7687\"\n",
    "user = \"neo4j\"\n",
    "password = \"UIOP1234\""
   ]
  },
  {
   "cell_type": "markdown",
   "id": "c777d8b1-4a82-41cd-b86a-8999ec5d6308",
   "metadata": {},
   "source": [
    "<hr>"
   ]
  },
  {
   "cell_type": "code",
   "execution_count": 3,
   "id": "8ec06648-4e5d-4069-89ba-a7029639738f",
   "metadata": {},
   "outputs": [],
   "source": [
    "# Ініціалізація поля \"likes\"\n",
    "def initialize_field(driver):\n",
    "    with driver.session() as session:\n",
    "        session.run(\"MATCH (i:Item {id: 1}) \\\n",
    "                     SET i.likes = 0\")"
   ]
  },
  {
   "cell_type": "code",
   "execution_count": 4,
   "id": "18d7825c-01ba-4d3a-9456-7a7924ae0cbd",
   "metadata": {},
   "outputs": [],
   "source": [
    "# Інкремент лічильника на '+1'\n",
    "def increment_likes(driver):\n",
    "    with driver.session() as session:\n",
    "        for _ in range(10000):\n",
    "            session.run(\"MATCH (i:Item {id: 1}) \\\n",
    "                         SET i.likes = i.likes + 1\")"
   ]
  },
  {
   "cell_type": "markdown",
   "id": "4b423bc9-b5dd-47a4-8c20-a7e737227d1b",
   "metadata": {},
   "source": [
    "<hr>"
   ]
  },
  {
   "cell_type": "code",
   "execution_count": 5,
   "id": "b5458feb-277e-4a1b-b610-0c94cbeedb8a",
   "metadata": {},
   "outputs": [
    {
     "name": "stdout",
     "output_type": "stream",
     "text": [
      "\n",
      "--------------------------------------------------\n",
      "Executing task in Neo4j...\n",
      "--------------------------------------------------\n",
      "Task executed in: 2781.56 seconds\n",
      "Final counter value (Neo4j): 100000\n",
      "--------------------------------------------------\n",
      "\n"
     ]
    }
   ],
   "source": [
    "if __name__ == \"__main__\":\n",
    "    driver = GraphDatabase.driver(uri, auth=(user, password))\n",
    "    initialize_field(driver)\n",
    "\n",
    "    print(f\"\\n{'-' * 50}\\nExecuting task in Neo4j...\\n{'-' * 50}\")\n",
    "    start_time = time.time()\n",
    "\n",
    "    threads = [threading.Thread(target=increment_likes, args=(driver,)) for _ in range(10)]\n",
    "\n",
    "    for thread in threads: thread.start()\n",
    "    for thread in threads: thread.join()\n",
    "\n",
    "    end_time = time.time()\n",
    "    print(f\"Task executed in: {end_time - start_time:.2f} seconds\")\n",
    "\n",
    "    # Перевірка фінального значення\n",
    "    with driver.session() as session:\n",
    "        result = session.run(\"MATCH (i:Item {id: 1}) RETURN i.likes AS likes\")\n",
    "        for record in result:\n",
    "            print(f\"Final counter value (Neo4j): {record['likes']}\")\n",
    "\n",
    "    print(f\"{'-' * 50}\\n\")\n",
    "    driver.close()"
   ]
  }
 ],
 "metadata": {
  "kernelspec": {
   "display_name": "Python 3 (ipykernel)",
   "language": "python",
   "name": "python3"
  },
  "language_info": {
   "codemirror_mode": {
    "name": "ipython",
    "version": 3
   },
   "file_extension": ".py",
   "mimetype": "text/x-python",
   "name": "python",
   "nbconvert_exporter": "python",
   "pygments_lexer": "ipython3",
   "version": "3.10.2"
  }
 },
 "nbformat": 4,
 "nbformat_minor": 5
}
