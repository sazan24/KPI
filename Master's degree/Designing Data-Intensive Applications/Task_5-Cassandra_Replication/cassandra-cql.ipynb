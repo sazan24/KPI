{
 "cells": [
  {
   "cell_type": "markdown",
   "id": "b326acc2-1d9e-4258-8672-e9135a30f75d",
   "metadata": {},
   "source": [
    "### Частина 1. Робота зі структурами даних у Cassandra"
   ]
  },
  {
   "cell_type": "markdown",
   "id": "d681106c-d347-46ab-97d6-a2b1c8dbdffc",
   "metadata": {},
   "source": [
    "CREATE KEYSPACE IF NOT EXISTS shop WITH REPLICATION = {'class' : 'SimpleStrategy', 'replication_factor' : 1};"
   ]
  },
  {
   "cell_type": "markdown",
   "id": "697c0808-d519-48b1-8f79-03e76f0af54c",
   "metadata": {},
   "source": [
    "CREATE TABLE items (id uuid, genre text, album text, performer text, price decimal, properties map<text, text>, PRIMARY KEY(genre, price, id));"
   ]
  },
  {
   "cell_type": "markdown",
   "id": "1aac152e-9b0a-4d0a-9770-902464fc367f",
   "metadata": {},
   "source": [
    "INSERT INTO items (id, genre, album, performer, price, properties) VALUES (uuid(), 'Rock', 'From Zero', 'Linkin Park', 3000, {'release_year': '2024', 'availability': 'in stock'});\n",
    "\n",
    "INSERT INTO items (id, genre, album, performer, price, properties) VALUES (uuid(), 'Rock', 'Meteora', 'Linkin Park', 2000, {'format': 'Vinyl', 'release_year': '2003', 'availability': 'out of stock'});\n",
    "\n",
    "INSERT INTO items (id, genre, album, performer, price, properties) VALUES (uuid(), 'Rock', 'Hybrid Theory', 'Linkin Park', 2000, {'release_year': '2000', 'availability': 'in stock'});\n",
    "\n",
    "INSERT INTO items (id, genre, album, performer, price, properties) VALUES (uuid(), 'Pop', 'Радіо Любов', 'Скрябін', 1500, {'format': 'CD','release_year': '2012'});\n",
    "\n",
    "INSERT INTO items (id, genre, album, performer, price, properties) VALUES (uuid(), 'Pop', 'Добряк', 'Скрябін', 1500, {'format': 'CD', 'release_year': '2013', 'availability': 'limited'});\n",
    "\n",
    "INSERT INTO items (id, genre, album, performer, price, properties) VALUES (uuid(), 'Folk', 'Пісні самонаведення', 'Kozak System & Тарас Чубай', 1000, {'format': 'Digital', 'release_year': '2014'});\n",
    "\n",
    "INSERT INTO items (id, genre, album, performer, price, properties) VALUES (uuid(), 'Folk', 'Пісні УПА', 'Львівські Музики', 500, {'format': 'CD', 'availability': 'out of stock'});"
   ]
  },
  {
   "cell_type": "markdown",
   "id": "8584e811-c007-4c70-ad5b-23fe143a8da6",
   "metadata": {},
   "source": [
    "<hr>\n",
    "<hr>"
   ]
  },
  {
   "cell_type": "markdown",
   "id": "477caef9-8887-43d6-a2e9-31fb8fb849d9",
   "metadata": {},
   "source": [
    "DESCRIBE items;"
   ]
  },
  {
   "cell_type": "markdown",
   "id": "ce767cf5-4758-4987-94c6-d74bb05c3979",
   "metadata": {},
   "source": [
    "SELECT * FROM items WHERE genre = 'Rock' ORDER BY price;"
   ]
  },
  {
   "cell_type": "markdown",
   "id": "6b35ba5a-288a-4232-b08c-00539f9df253",
   "metadata": {},
   "source": [
    "<hr>"
   ]
  },
  {
   "cell_type": "markdown",
   "id": "d00d778e-86f6-4271-ab20-d525ab688827",
   "metadata": {},
   "source": [
    "CREATE MATERIALIZED VIEW items_by_album AS \n",
    "SELECT * FROM shop.items  \n",
    "WHERE album IS NOT NULL\n",
    "      AND genre IS NOT NULL\n",
    "      AND price IS NOT NULL\n",
    "      AND id IS NOT NULL\n",
    "PRIMARY KEY (album, genre, price, id);\n",
    "\n",
    "\n",
    "SELECT * FROM items_by_album WHERE album = 'Добряк';"
   ]
  },
  {
   "cell_type": "markdown",
   "id": "a17462c0-449f-4d71-af57-23ca19158f43",
   "metadata": {},
   "source": [
    "CREATE MATERIALIZED VIEW items_by_price_in_genre AS \n",
    "SELECT * FROM shop.items\n",
    "WHERE price IS NOT NULL \n",
    "      AND genre IS NOT NULL \n",
    "      AND id IS NOT NULL\n",
    "PRIMARY KEY (genre, price, id);\n",
    "\n",
    "\n",
    "SELECT * FROM items_by_price_in_genre WHERE genre = 'Pop' AND price > 1000 AND price < 2500;\n"
   ]
  },
  {
   "cell_type": "markdown",
   "id": "95c4386b-c38b-465b-aab1-f6bfee26c31a",
   "metadata": {},
   "source": [
    "CREATE MATERIALIZED VIEW items_by_price_in_performer AS\n",
    "SELECT * FROM shop.items\n",
    "WHERE price IS NOT NULL \n",
    "      AND performer IS NOT NULL \n",
    "      AND genre IS NOT NULL \n",
    "      AND id IS NOT NULL \n",
    "PRIMARY KEY (performer, price, genre, id);\n",
    "\n",
    "\n",
    "SELECT * FROM items_by_producer_price WHERE performer = 'Львівські музики' AND price < 1000;"
   ]
  },
  {
   "cell_type": "markdown",
   "id": "413b77ed-5aaa-4cd9-8f08-936fcaf9f082",
   "metadata": {},
   "source": [
    "<hr>\n",
    "<hr>"
   ]
  },
  {
   "cell_type": "markdown",
   "id": "2291c41a-c555-4658-85af-923b9893550c",
   "metadata": {},
   "source": [
    "CREATE TABLE orders (id uuid, customer text, items list\\<uuid>, order_cost decimal, order_date date, PRIMARY KEY(customer, order_date));"
   ]
  },
  {
   "cell_type": "markdown",
   "id": "302149a5-7d17-4cf1-b9ce-e199fbeb2a9e",
   "metadata": {},
   "source": [
    "INSERT INTO orders (id, customer, items, order_date, order_cost) VALUES (uuid(), 'Назар Сахній', [221227c6-15f8-4daf-9866-3b3ac11837a0, 843dc3fa-b091-4103-b061-88bb09861dbd], '2024-10-14', 2500);\r\n",
    "\r\n",
    "INSERT INTO orders (id, customer, items, order_dateorder_, cost) VALUES( uuid(),Назар Сахнійer'[cc9ed0ee-e903-48c0-bb1a-2fa2e9e8eb7d], '2024-10-27', 1000);\n",
    "\n",
    "INSERT INTO orders (id, customer, items, order_date, order_cost) VALUES (uuid(), 'Назар Сахній', [f4cfda29-1710-44a0-8f3a-5cc709fd36da, f4e02e60-618f-4aef-83e0-d98744730620], '2024-11-15', 5000););\r\n",
    "\r\n",
    "INSERT INTO orders (id, customer, items, order_daorder_te, cost) VA (S ( uuid(Тарас Шевченкоnov[cc9ed0ee-e903-48c0-bb1a-2fa2e9e8eb7d, 16ab72bf-c96f-4d67-809b-30ee25717041], '2024-11-09', 2500);0 );\r\n",
    "\r\n",
    "INSERT INTO orders (id, customer, items, order_order_date, cost) VAUES ( uuiАндрій Мельник Bl[3f172736-eefd-43bb-864b-cdd36096245a, 221227c6-15f8-4daf-9866-3b3ac11837a0], '2024-11-30', 3500);000 );\r\n",
    "\r\n",
    "INSERT INTO orders (id, customer, items, ordeorder_r_date, cost) ALUES ( 'Андрій Мельник'i [843dc3fa-b091-4103-b061-88bb09861dbd], '2024-12-18', 500); 7000 );"
   ]
  },
  {
   "cell_type": "markdown",
   "id": "987cc3b3-6371-4545-b74a-fbfcb6792351",
   "metadata": {},
   "source": [
    "<hr>"
   ]
  },
  {
   "cell_type": "markdown",
   "id": "497187b5-1702-4457-8400-c31ef1be1251",
   "metadata": {},
   "source": [
    "SELECT * FROM orders WHERE customer = 'Nazar Sakhnii' ORDER BY order_date;"
   ]
  },
  {
   "cell_type": "markdown",
   "id": "3c7e65ca-e766-4c42-869d-ccf9653554e5",
   "metadata": {},
   "source": [
    "SELECT customer, SUM(order_cost) FROM orders GROUP BY customer;"
   ]
  },
  {
   "cell_type": "markdown",
   "id": "bcce463a-76b0-4ce7-a3dd-f545b45487a4",
   "metadata": {},
   "source": [
    "SELECT customer, order_date, order_cost, WRITETIME(cost) FROM orders;"
   ]
  },
  {
   "cell_type": "markdown",
   "id": "57c9f7d0-cc66-4d66-996f-6073827387ea",
   "metadata": {},
   "source": [
    "<hr>\n",
    "<hr>\n",
    "<hr>"
   ]
  },
  {
   "cell_type": "markdown",
   "id": "c0a8066e-d5e5-4f70-890d-1eda919e9ef7",
   "metadata": {},
   "source": [
    "### Частина 2. Налаштування реплікації у Cassandra"
   ]
  },
  {
   "cell_type": "markdown",
   "id": "c99419c1-fd72-4fed-856d-469496c2b6a7",
   "metadata": {},
   "source": [
    "docker network create labReplicaSet\r\n",
    "\r\n",
    "docker run --name cassandra-node1 -d \\\r\n",
    "  --network labReplicaSet \\\r\n",
    "  --volume cassadata-nndra \\\r\n",
    "  cassandra:latest\r\n",
    "\r\n",
    "docker run --name cassandra-node2 -d \\\r\n",
    "  --network labReplicaSet \\\r\n",
    "  --volume ndra-dcassandra \\\r\n",
    "  -e CASSANDRA_SEEDS=cassandra-cassandra:latest  cassandra\r\n",
    "\r\n",
    "docker run --name cassandra-node3 -d \\\r\n",
    "  --network labReplicaSet \\\r\n",
    "  --v cassar/lib/cassandra \\\r\n",
    "  -e CASSANDRA_SEEDS=casscassandra:latest1 \\\r\n",
    "  cassandra\r\n"
   ]
  },
  {
   "cell_type": "markdown",
   "id": "33ee5a2d-b52e-4bb2-ac8a-63d43c1a4d59",
   "metadata": {},
   "source": [
    "<hr>"
   ]
  },
  {
   "cell_type": "markdown",
   "id": "336443cc-2cf5-4420-9f81-8d1897dace54",
   "metadata": {},
   "source": [
    "docker exec -it cassandra-node1 nodetool status\n",
    "\n",
    "docker exec -it cassandra-node2 nodetool info\n",
    "\n",
    "docker exec -it cassandra-node3 nodetool describecluster"
   ]
  },
  {
   "cell_type": "markdown",
   "id": "72771c5f-3b85-4feb-ae0c-887378153109",
   "metadata": {},
   "source": [
    "<hr>"
   ]
  },
  {
   "cell_type": "markdown",
   "id": "90291c48-b2e0-430a-91c3-e56a340773ad",
   "metadata": {},
   "source": [
    "CREATE KEYSPACE replication_factor1 WITH replication = {'class': 'SimpleStrategy', 'replication_factor': 1};\n",
    "\n",
    "CREATE KEYSPACE replication_factor2 WITH replication = {'class': 'SimpleStrategy', 'replication_factor': 2};\n",
    "\n",
    "CREATE KEYSPACE replication_factor3 WITH replication = {'class': 'SimpleStrategy', 'replication_factor': 3};"
   ]
  },
  {
   "cell_type": "markdown",
   "id": "45d9d00e-18b0-4b87-a594-09f3db85937d",
   "metadata": {},
   "source": [
    "<hr>"
   ]
  },
  {
   "cell_type": "markdown",
   "id": "5b654e32-3886-4cd0-be0d-7305d7f55b8a",
   "metadata": {},
   "source": [
    "CREATE TABLE IF NOT EXISTS replication_factor1.lab(record text, PRIMARY KEY (record));\n",
    "\n",
    "CREATE TABLE IF NOT EXISTS replication_factor2.lab(record text, PRIMARY KEY (record));\n",
    "\n",
    "CREATE TABLE IF NOT EXISTS replication_factor3.lab(record text, PRIMARY KEY (record));"
   ]
  },
  {
   "cell_type": "markdown",
   "id": "73eaab8a-5eba-4211-a7c1-035884685751",
   "metadata": {},
   "source": [
    "<hr>"
   ]
  },
  {
   "cell_type": "markdown",
   "id": "012f16b4-7261-4007-874e-015dffb4166a",
   "metadata": {},
   "source": [
    "INSERT INTO replication_factor1.lab(record) VALUES ('[1] Nazar Sakhnii');\n",
    "\n",
    "SELECT * FROM replication_factor1.lab;"
   ]
  },
  {
   "cell_type": "markdown",
   "id": "75472930-2b82-4938-8667-264dcb0ab055",
   "metadata": {},
   "source": [
    "INSERT INTO replication_factor2.lab(record) VALUES ('[2] Nazar Sakhnii');\n",
    "\n",
    "SELECT * FROM replication_factor2.lab;"
   ]
  },
  {
   "cell_type": "markdown",
   "id": "b5fc6342-124a-4252-9c17-8557b0f7ac0b",
   "metadata": {},
   "source": [
    "INSERT INTO replication_factor3.lab(record) VALUES ('[3] Nazar Sakhnii');\n",
    "\n",
    "SELECT * FROM replication_factor3.lab;"
   ]
  },
  {
   "cell_type": "markdown",
   "id": "4cffc53d-ef79-44c1-8bfb-2983d8bb0b58",
   "metadata": {},
   "source": [
    "<hr>"
   ]
  },
  {
   "cell_type": "markdown",
   "id": "41de08b8-94d6-4d3d-a923-10dd07164efe",
   "metadata": {},
   "source": [
    "docker exec -it cassandra-node1 nodetool status replication_factor1\n",
    "\n",
    "docker exec -it cassandra-node2 nodetool status replication_factor1\n",
    "\n",
    "docker exec -it cassandra-node3 nodetool status replication_factor1"
   ]
  },
  {
   "cell_type": "markdown",
   "id": "99f4b4b9-26fb-4ab9-a1bc-df083f609354",
   "metadata": {},
   "source": [
    "docker exec -it cassandra-node1 nodetool status replication_factor2\n",
    "\n",
    "docker exec -it cassandra-node2 nodetool status replication_factor2\n",
    "\n",
    "docker exec -it cassandra-node3 nodetool status replication_factor3"
   ]
  },
  {
   "cell_type": "markdown",
   "id": "d362a1fc-f749-4c7b-b553-78b2451d20f0",
   "metadata": {},
   "source": [
    "docker exec -it cassandra-node1 nodetool status replication_factor3\n",
    "\n",
    "docker exec -it cassandra-node2 nodetool status replication_factor3\n",
    "\n",
    "docker exec -it cassandra-node3 nodetool status replication_factor3"
   ]
  },
  {
   "cell_type": "markdown",
   "id": "25cb0176-0c07-47c2-83db-98665f58c33f",
   "metadata": {},
   "source": [
    "<hr>"
   ]
  },
  {
   "cell_type": "markdown",
   "id": "25327cae-7ead-445e-ab93-09de21caab9f",
   "metadata": {},
   "source": [
    "$ nodetool getendpoints replication_factor1 lab \"FirstPoint\"\n",
    "\n",
    "$ nodetool getendpoints replication_factor2 lab \"SecondPoint\"\n",
    "\n",
    "$ nodetool getendpoints replication_factor3 lab \"ThirdPoint\""
   ]
  },
  {
   "cell_type": "markdown",
   "id": "41a9cab6-3712-4ad6-9cd2-124ce432ba4d",
   "metadata": {},
   "source": [
    "<hr>"
   ]
  },
  {
   "cell_type": "code",
   "execution_count": null,
   "id": "01d27ec0-524f-4454-8f50-ada954372dbc",
   "metadata": {},
   "outputs": [],
   "source": [
    "docker stop cassandra-node3"
   ]
  },
  {
   "cell_type": "markdown",
   "id": "977b907d-6bc0-4b13-9fb2-de406180c407",
   "metadata": {},
   "source": [
    "CONSISTENCY ONE"
   ]
  },
  {
   "cell_type": "markdown",
   "id": "35158182-0554-4dfe-91f9-41ac6c2d0a54",
   "metadata": {},
   "source": [
    "INSERT INTO replication_factor1.lab(record) VALUES ('1-CONSISTENCY_ONE');\n",
    "\n",
    "SELECT * FROM replication_factor1.lab;"
   ]
  },
  {
   "cell_type": "markdown",
   "id": "03f164c3-cfc5-4748-bd51-9195580d1eb8",
   "metadata": {},
   "source": [
    "INSERT INTO replication_factor2.lab(record) VALUES ('2-CONSISTENCY_ONE');\n",
    "\n",
    "SELECT * FROM replication_factor2.lab;"
   ]
  },
  {
   "cell_type": "markdown",
   "id": "97562d27-545f-4c43-8534-f0096007c298",
   "metadata": {},
   "source": [
    "INSERT INTO replication_factor3.lab(record) VALUES ('3-CONSISTENCY_ONE');\n",
    "\n",
    "SELECT * FROM replication_factor3.lab;"
   ]
  },
  {
   "cell_type": "markdown",
   "id": "51e40223-a007-4320-9f38-267a18ad8133",
   "metadata": {},
   "source": [
    "CONSISTENCY TWO"
   ]
  },
  {
   "cell_type": "markdown",
   "id": "01af19a3-4edf-4265-af8b-a82c2e5fc320",
   "metadata": {},
   "source": [
    "INSERT INTO replication_factor1.lab(record) VALUES ('1-CONSISTENCY_TWO');\n",
    "\n",
    "SELECT * FROM replication_factor1.lab;"
   ]
  },
  {
   "cell_type": "markdown",
   "id": "3ad3c4ad-444d-4f86-9982-fc015e00c89e",
   "metadata": {},
   "source": [
    "INSERT INTO replication_factor2.lab(record) VALUES ('2-CONSISTENCY_TWO');\n",
    "\n",
    "SELECT * FROM replication_factor2.lab;"
   ]
  },
  {
   "cell_type": "markdown",
   "id": "f3323416-b817-45e9-b69a-aa6036f606cf",
   "metadata": {},
   "source": [
    "INSERT INTO replication_factor3.lab(record) VALUES ('3-CONSISTENCY_TWO');\n",
    "\n",
    "SELECT * FROM replication_factor3.lab;"
   ]
  },
  {
   "cell_type": "markdown",
   "id": "0411c8e4-e632-4430-a8e9-4153b921d57b",
   "metadata": {},
   "source": [
    "CONSISTENCY THREE"
   ]
  },
  {
   "cell_type": "markdown",
   "id": "7b29cc9d-190c-45a8-916b-6d2ad1e735ee",
   "metadata": {},
   "source": [
    "INSERT INTO replication_factor1.lab(record) VALUES ('1-CONSISTENCY_THREE');\n",
    "\n",
    "SELECT * FROM replication_factor1.lab;"
   ]
  },
  {
   "cell_type": "markdown",
   "id": "f2c35e43-8c6c-4e69-b200-b212be21f0ef",
   "metadata": {},
   "source": [
    "INSERT INTO replication_factor2.lab(record) VALUES ('2-CONSISTENCY_THREE');\n",
    "\n",
    "SELECT * FROM replication_factor2.lab;"
   ]
  },
  {
   "cell_type": "markdown",
   "id": "2f5813fb-ace3-4eb2-a0b9-f2b723f4a455",
   "metadata": {},
   "source": [
    "INSERT INTO replication_factor3.lab(record) VALUES ('3-CONSISTENCY_THREE');\n",
    "\n",
    "SELECT * FROM replication_factor3.lab;"
   ]
  },
  {
   "cell_type": "markdown",
   "id": "f6aab05f-28bf-4ee7-bb10-722320db6d0d",
   "metadata": {},
   "source": [
    "<hr>"
   ]
  },
  {
   "cell_type": "markdown",
   "id": "779927aa-3ce5-47aa-b1c3-7a15f91c4ae5",
   "metadata": {},
   "source": [
    "docker exec -it cassandra-node1 nodetool disablegossip\n",
    "\n",
    "docker exec -it cassandra-node2 nodetool disablegossip\n",
    "\n",
    "docker exec -it cassandra-node3 nodetool disablegossip"
   ]
  },
  {
   "cell_type": "markdown",
   "id": "66e97883-f235-4c32-b4a3-ca70d6ee36c1",
   "metadata": {},
   "source": [
    "<hr>"
   ]
  },
  {
   "cell_type": "code",
   "execution_count": null,
   "id": "c5e90abf-111a-4f2a-81e2-bff63a980937",
   "metadata": {},
   "outputs": [],
   "source": [
    "docker exec -it cassandra-node1 cqlsh"
   ]
  },
  {
   "cell_type": "markdown",
   "id": "01ec09fa-b84d-4275-a2c8-f7649c74f680",
   "metadata": {},
   "source": [
    "CONSISTENCY ONE;"
   ]
  },
  {
   "cell_type": "markdown",
   "id": "ae78e314-7d7e-46d9-bd81-cd5a9828d681",
   "metadata": {},
   "source": [
    "USE replication_factor3;"
   ]
  },
  {
   "cell_type": "raw",
   "id": "0efb2bab-e4bf-45cc-8ffe-03a96d9acd7a",
   "metadata": {},
   "source": [
    "INSERT INTO lab(record, value) VALUES ('conflict', 'who');\n",
    "\n",
    "SELECT record, value, writetime(value) FROM lab;"
   ]
  },
  {
   "cell_type": "code",
   "execution_count": null,
   "id": "ffde4d1d-fc72-4592-ab4f-2e9e0c3fe647",
   "metadata": {},
   "outputs": [],
   "source": [
    "docker exec -it cassandra-node2 cqlsh"
   ]
  },
  {
   "cell_type": "markdown",
   "id": "6494705a-d59a-44ac-9e64-6d5cb5231111",
   "metadata": {},
   "source": [
    "USE replication_factor3;"
   ]
  },
  {
   "cell_type": "markdown",
   "id": "335a7d70-022b-420d-9e8b-2d8e591f8192",
   "metadata": {},
   "source": [
    "INSERT INTO lab(record, value) VALUES ('conflict', 'where');\n",
    "\n",
    "SELECT record, value, writetime(value) FROM lab;"
   ]
  },
  {
   "cell_type": "code",
   "execution_count": null,
   "id": "09d4d245-dfae-45d3-8189-500476841b10",
   "metadata": {},
   "outputs": [],
   "source": [
    "docker exec -it cassandra-node3 cqlsh"
   ]
  },
  {
   "cell_type": "markdown",
   "id": "676f22ca-b4f2-4868-9b34-b48fced9f9f6",
   "metadata": {},
   "source": [
    "USE replication_factor3;"
   ]
  },
  {
   "cell_type": "markdown",
   "id": "223760af-c515-4b17-a988-d9a0ee60e4e7",
   "metadata": {},
   "source": [
    "INSERT INTO lab(record, value) VALUES ('conflict', 'when');\n",
    "\n",
    "SELECT record, value, writetime(value) FROM lab;"
   ]
  },
  {
   "cell_type": "markdown",
   "id": "01f59f6b-e000-4796-b7d2-461b40105d7c",
   "metadata": {},
   "source": [
    "<hr>"
   ]
  },
  {
   "cell_type": "markdown",
   "id": "80736081-225d-4217-ba77-0169a1c80de0",
   "metadata": {},
   "source": [
    "docker exec -it cassandra-node1 nodetool enablegossip\n",
    "\n",
    "docker exec -it cassandra-node2 nodetool enablegossip\n",
    "\n",
    "docker exec -it cassandra-node3 nodetool enablegossip"
   ]
  },
  {
   "cell_type": "markdown",
   "id": "95babeba-84ac-4c10-b5bb-ae32e807bfb5",
   "metadata": {},
   "source": [
    "SELECT * FROM replication_factor3.lab;"
   ]
  },
  {
   "cell_type": "code",
   "execution_count": null,
   "id": "7c14259f-ab64-4b60-ad1d-c0998b47b646",
   "metadata": {},
   "outputs": [],
   "source": []
  }
 ],
 "metadata": {
  "kernelspec": {
   "display_name": "Python 3 (ipykernel)",
   "language": "python",
   "name": "python3"
  },
  "language_info": {
   "codemirror_mode": {
    "name": "ipython",
    "version": 3
   },
   "file_extension": ".py",
   "mimetype": "text/x-python",
   "name": "python",
   "nbconvert_exporter": "python",
   "pygments_lexer": "ipython3",
   "version": "3.10.2"
  }
 },
 "nbformat": 4,
 "nbformat_minor": 5
}
