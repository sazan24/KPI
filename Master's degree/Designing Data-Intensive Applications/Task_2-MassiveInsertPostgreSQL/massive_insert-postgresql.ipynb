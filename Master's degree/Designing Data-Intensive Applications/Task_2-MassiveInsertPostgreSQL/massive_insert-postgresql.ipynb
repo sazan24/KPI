{
 "cells": [
  {
   "cell_type": "code",
   "execution_count": 1,
   "metadata": {},
   "outputs": [],
   "source": [
    "import threading\n",
    "import psycopg2\n",
    "import time"
   ]
  },
  {
   "cell_type": "markdown",
   "metadata": {},
   "source": [
    "<hr>"
   ]
  },
  {
   "cell_type": "code",
   "execution_count": 2,
   "metadata": {},
   "outputs": [],
   "source": [
    "# Функція для встановлення з'єднання з базою даних\n",
    "def connect_db():\n",
    "    return psycopg2.connect(\"host=localhost dbname=massive_insert-postgresql user=sazan24 password=UIOP1234\")"
   ]
  },
  {
   "cell_type": "code",
   "execution_count": 3,
   "metadata": {},
   "outputs": [],
   "source": [
    "# Функція для створення таблиці та ініціалізації даних\n",
    "def create_table():\n",
    "    connect = connect_db()\n",
    "    cursor = connect.cursor()\n",
    "\n",
    "    cursor.execute(\"CREATE TABLE user_counter (user_id serial PRIMARY KEY, counter integer, version integer);\")\n",
    "    \n",
    "    cursor.execute(\"INSERT INTO user_counter (user_id, counter, version) VALUES (1, 0, 0);\")\n",
    "    cursor.execute(\"INSERT INTO user_counter (user_id, counter, version) VALUES (2, 0, 0);\")\n",
    "    cursor.execute(\"INSERT INTO user_counter (user_id, counter, version) VALUES (3, 0, 0);\")\n",
    "    cursor.execute(\"INSERT INTO user_counter (user_id, counter, version) VALUES (4, 0, 0);\")\n",
    "\n",
    "    connect.commit()\n",
    "    cursor.close()\n",
    "    connect.close()"
   ]
  },
  {
   "cell_type": "markdown",
   "metadata": {},
   "source": [
    "<hr>"
   ]
  },
  {
   "cell_type": "code",
   "execution_count": 4,
   "metadata": {},
   "outputs": [],
   "source": [
    "# Функція для перегляду всіх записів у таблиці даних\n",
    "def view_table():\n",
    "    connect = connect_db()\n",
    "    cursor = connect.cursor()\n",
    "\n",
    "    cursor.execute(\"SELECT * FROM user_counter ORDER BY user_id;\")\n",
    "    table = cursor.fetchall()\n",
    "    print(\"user_id, counter, version\")\n",
    "    for row in table: print(row)\n",
    "\n",
    "    connect.commit()\n",
    "    cursor.close()\n",
    "    connect.close()"
   ]
  },
  {
   "cell_type": "code",
   "execution_count": 5,
   "metadata": {},
   "outputs": [],
   "source": [
    "# Функція для видалення таблиці даних \"user_counter\"\n",
    "def drop_table():\n",
    "    connect = connect_db()\n",
    "    cursor = connect.cursor()\n",
    "\n",
    "    cursor.execute(\"DROP TABLE user_counter;\")\n",
    "\n",
    "    connect.commit()\n",
    "    cursor.close()\n",
    "    connect.close()"
   ]
  },
  {
   "cell_type": "code",
   "execution_count": 6,
   "metadata": {},
   "outputs": [],
   "source": [
    "# Функція для виведення значення лічильника з ID\n",
    "def print_counter(i):\n",
    "    connect = connect_db()\n",
    "    cursor = connect.cursor()\n",
    "\n",
    "    cursor.execute(f\"SELECT counter FROM user_counter WHERE user_id = {i};\")\n",
    "    print(f\"Final counter value: {cursor.fetchone()[0]}\")\n",
    "\n",
    "    connect.commit()\n",
    "    cursor.close()\n",
    "    connect.close()"
   ]
  },
  {
   "cell_type": "code",
   "execution_count": 7,
   "metadata": {},
   "outputs": [],
   "source": [
    "# Функція для скидання лічильника та версії з ID\n",
    "def update_counter(i):\n",
    "    connect = connect_db()\n",
    "    cursor = connect.cursor()\n",
    "\n",
    "    cursor.execute(f\"UPDATE user_counter SET counter = 0 WHERE user_id = {i};\")\n",
    "    cursor.execute(f\"UPDATE user_counter SET version = 0 WHERE user_id = {i};\")\n",
    "\n",
    "    connect.commit()\n",
    "    cursor.close()\n",
    "    connect.close()"
   ]
  },
  {
   "cell_type": "markdown",
   "metadata": {},
   "source": [
    "<hr>"
   ]
  },
  {
   "cell_type": "code",
   "execution_count": 8,
   "metadata": {},
   "outputs": [],
   "source": [
    "# Функція, яка демонструє сутність проблеми втраченого оновлення\n",
    "def lost_update():\n",
    "    connect = connect_db()\n",
    "    cursor = connect.cursor()\n",
    "    \n",
    "    for _ in range(10000):\n",
    "        counter = cursor.execute(\"SELECT counter FROM user_counter WHERE user_id = 1;\")\n",
    "        counter = cursor.fetchone()[0] + 1\n",
    "        cursor.execute(f\"UPDATE user_counter SET counter = {counter} WHERE user_id = 1;\")\n",
    "        connect.commit()\n",
    "        \n",
    "    cursor.close()\n",
    "    connect.close()"
   ]
  },
  {
   "cell_type": "code",
   "execution_count": 9,
   "metadata": {},
   "outputs": [],
   "source": [
    "# Функція, яка адекватно оновлює значення лічильника \"на місці\"\n",
    "def inplace_update():\n",
    "    connect = connect_db()\n",
    "    cursor = connect.cursor()\n",
    "    \n",
    "    for _ in range(10000):\n",
    "        cursor.execute(\"UPDATE user_counter SET counter = counter + 1 WHERE user_id = 2;\")\n",
    "        connect.commit()\n",
    "        \n",
    "    cursor.close()\n",
    "    connect.close()"
   ]
  },
  {
   "cell_type": "code",
   "execution_count": 10,
   "metadata": {},
   "outputs": [],
   "source": [
    "# Функція, яка використовує принцип блокувань на рівні рядків\n",
    "def rowlevel_locking():\n",
    "    for _ in range(10000):\n",
    "        connect = connect_db()\n",
    "        cursor = connect.cursor()\n",
    "        \n",
    "        cursor.execute(\"SELECT counter FROM user_counter WHERE user_id = 3 FOR UPDATE;\")\n",
    "        counter = cursor.fetchone()[0] + 1\n",
    "        \n",
    "        cursor.execute(f\"UPDATE user_counter SET counter = {counter} WHERE user_id = 3;\")\n",
    "        connect.commit()\n",
    "        \n",
    "        cursor.close()\n",
    "        connect.close()"
   ]
  },
  {
   "cell_type": "code",
   "execution_count": 11,
   "metadata": {},
   "outputs": [],
   "source": [
    "# Функція, що використовує механізм керування паралельним доступом\n",
    "def concurrency_control():\n",
    "    connect = connect_db()\n",
    "    cursor = connect.cursor()\n",
    "    \n",
    "    for _ in range(10000):\n",
    "        while True:\n",
    "            cursor.execute(\"SELECT counter, version FROM user_counter WHERE user_id = 4;\")\n",
    "            counter, version = cursor.fetchone()\n",
    "            \n",
    "            counter += 1\n",
    "            cursor.execute(f\"UPDATE user_counter SET counter = {counter}, version = {version + 1} \\\n",
    "                             WHERE user_id = 4 and version = {version};\")\n",
    "            connect.commit()\n",
    "            \n",
    "            count = cursor.rowcount\n",
    "            if count > 0: break\n",
    "                \n",
    "    cursor.close()\n",
    "    connect.close()"
   ]
  },
  {
   "cell_type": "markdown",
   "metadata": {},
   "source": [
    "<hr>"
   ]
  },
  {
   "cell_type": "code",
   "execution_count": 12,
   "metadata": {},
   "outputs": [
    {
     "name": "stdout",
     "output_type": "stream",
     "text": [
      "user_id, counter, version\n",
      "(1, 0, 0)\n",
      "(2, 0, 0)\n",
      "(3, 0, 0)\n",
      "(4, 0, 0)\n",
      "\n",
      "--------------------------------------------------\n",
      "Executing 1. Lost Update...\n",
      "--------------------------------------------------\n",
      "Task '1. Lost Update' executed in: 235.49 seconds\n",
      "Final counter value: 10559\n",
      "--------------------------------------------------\n",
      "\n",
      "\n",
      "--------------------------------------------------\n",
      "Executing 2. In-Place Update...\n",
      "--------------------------------------------------\n",
      "Task '2. In-Place Update' executed in: 258.13 seconds\n",
      "Final counter value: 100000\n",
      "--------------------------------------------------\n",
      "\n",
      "\n",
      "--------------------------------------------------\n",
      "Executing 3. Row-Level Locking...\n",
      "--------------------------------------------------\n",
      "Task '3. Row-Level Locking' executed in: 832.70 seconds\n",
      "Final counter value: 100000\n",
      "--------------------------------------------------\n",
      "\n",
      "\n",
      "--------------------------------------------------\n",
      "Executing 4. Concurrency Control...\n",
      "--------------------------------------------------\n",
      "Task '4. Concurrency Control' executed in: 2342.15 seconds\n",
      "Final counter value: 100000\n",
      "--------------------------------------------------\n",
      "\n",
      "user_id, counter, version\n",
      "(1, 10559, 0)\n",
      "(2, 100000, 0)\n",
      "(3, 100000, 0)\n",
      "(4, 100000, 100000)\n"
     ]
    }
   ],
   "source": [
    "if __name__ == \"__main__\":\n",
    "    # Створення та огляд таблиці\n",
    "    create_table()\n",
    "    view_table()\n",
    "\n",
    "    # Завдання до виконання\n",
    "    tasks = [[lost_update, \"1. Lost Update\"],\n",
    "             [inplace_update, \"2. In-Place Update\"],\n",
    "             [rowlevel_locking, \"3. Row-Level Locking\"],\n",
    "             [concurrency_control, \"4. Concurrency Control\"]]\n",
    "    \n",
    "    for i, (task, name) in enumerate(tasks, start=1):\n",
    "        print(f\"\\n{'-' * 50}\\nExecuting {name}...\\n{'-' * 50}\")\n",
    "        update_counter(i)\n",
    "        \n",
    "        start = time.time()\n",
    "        threads = [threading.Thread(target=task) for _ in range(10)]\n",
    "        \n",
    "        for thread in threads: thread.start()\n",
    "        for thread in threads: thread.join()\n",
    "        \n",
    "        print(f\"Task '{name}' executed in: {time.time() - start:.2f} seconds\")\n",
    "        print_counter(i)\n",
    "        print(f\"{'-' * 50}\\n\")\n",
    "\n",
    "    # Перегляд таблиці\n",
    "    view_table()"
   ]
  },
  {
   "cell_type": "code",
   "execution_count": null,
   "metadata": {},
   "outputs": [],
   "source": []
  }
 ],
 "metadata": {
  "kernelspec": {
   "display_name": "Python 3 (ipykernel)",
   "language": "python",
   "name": "python3"
  },
  "language_info": {
   "codemirror_mode": {
    "name": "ipython",
    "version": 3
   },
   "file_extension": ".py",
   "mimetype": "text/x-python",
   "name": "python",
   "nbconvert_exporter": "python",
   "pygments_lexer": "ipython3",
   "version": "3.10.2"
  }
 },
 "nbformat": 4,
 "nbformat_minor": 4
}
