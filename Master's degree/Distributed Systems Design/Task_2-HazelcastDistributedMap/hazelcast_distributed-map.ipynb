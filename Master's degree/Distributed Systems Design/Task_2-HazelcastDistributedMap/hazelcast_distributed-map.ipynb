{
 "cells": [
  {
   "cell_type": "markdown",
   "id": "38f1ad32-2100-494f-b76c-81107172f500",
   "metadata": {},
   "source": [
    "* hazelcast_distributed-map.py"
   ]
  },
  {
   "cell_type": "code",
   "execution_count": null,
   "id": "3daafa0a-f169-422a-9bc6-dd2647dee45e",
   "metadata": {},
   "outputs": [],
   "source": [
    "import hazelcast\n",
    "import time\n",
    "\n",
    "\n",
    "def distribute_1000key():\n",
    "    for key in range(1000): dist_map.set(key, key)\n",
    "\n",
    "\n",
    "# Функція для інкременту значення лічильника без Lock, з простим читанням і записом\n",
    "def without_lock(key):\n",
    "    dist_map.put(key, 0)\n",
    "    for _ in range(10000):\n",
    "        counter = dist_map.get(key) + 1\n",
    "        dist_map.put(key, counter)\n",
    "\n",
    "\n",
    "# Функція для інкременту значення лічильника з використанням Lock-мапи (map.lock)\n",
    "def pessimistic_map(key):\n",
    "    if (not dist_map.contains_key(key)): dist_map.put(key, 0)\n",
    "    for _ in range(10000):\n",
    "        dist_map.lock(key)\n",
    "        try:\n",
    "            counter = dist_map.get(key) + 1\n",
    "            dist_map.put(key, counter)\n",
    "        finally:\n",
    "            dist_map.unlock(key)\n",
    "\n",
    "\n",
    "# Функція для інкременту значення з використанням механізму заміни значень (replace_if_same)\n",
    "def optimistic_replace(key):\n",
    "    if (not dist_map.contains_key(key)): dist_map.put(key, 0)\n",
    "    for _ in range(10000):\n",
    "        while True:\n",
    "            oldcounter = dist_map.get(key)\n",
    "            newcounter = oldcounter + 1\n",
    "            if dist_map.replace_if_same(key, oldcounter, newcounter): break\n",
    "\n",
    "\n",
    "if __name__ == \"__main__\":\n",
    "    # Підключення до Hazelcast через Python-клієнта\n",
    "    hz = hazelcast.HazelcastClient(cluster_name=\"distributed-map-cluster\",\n",
    "                                   client_name=\"hazelcast-connection\")\n",
    "    dist_map = hz.get_map(\"lab-distributed-map\").blocking()\n",
    "    print(\"Successful connection to Hazelcast!\")\n",
    "\n",
    "    # Функція для запису (фактичного розподілу) \n",
    "    # 1000 значень з ключами від 0 до 1000\n",
    "    # distribute_1000key()  # Закоментовано\n",
    "    \n",
    "    # Використання ключа для розподіленого лічильника\n",
    "    main_counter = 0\n",
    "    print(\"Initial counter value:\", main_counter)\n",
    "\n",
    "    # Завдання до виконання\n",
    "    tasks = [[without_lock, \"a. No Lock for Increment\"],\n",
    "             [pessimistic_map, \"b. Map Lock for Increment\"],\n",
    "             [optimistic_replace, \"c. Replace if Same Increment\"]]\n",
    "\n",
    "    for task, name in tasks:\n",
    "        print(f\"\\n{'-' * 50}\\nExecuting {name}...\\n{'-' * 50}\")\n",
    "        \n",
    "        start = time.time()\n",
    "        task(task.__name__)\n",
    "            \n",
    "        print(f\"Task '{name}' executed in: {time.time() - start:.2f} seconds\")\n",
    "        print(f\"Final counter value: {dist_map.get(task.__name__)}\")\n",
    "        print(f\"{'-' * 50}\\n\")\n",
    "\n",
    "    # Завершення роботи клієнта\n",
    "    hz.shutdown()"
   ]
  },
  {
   "cell_type": "markdown",
   "id": "1b89b1f4-2567-436c-b8d4-c7f089f17253",
   "metadata": {},
   "source": [
    "---"
   ]
  },
  {
   "cell_type": "markdown",
   "id": "6bd9eb80-27f5-4227-999c-82a55d8db9f8",
   "metadata": {},
   "source": [
    "* writer-bounded_queue.py"
   ]
  },
  {
   "cell_type": "code",
   "execution_count": null,
   "id": "32a3b179-4c61-4460-a7fb-b3e27a9e325a",
   "metadata": {},
   "outputs": [],
   "source": [
    "import hazelcast\n",
    "\n",
    "hz = hazelcast.HazelcastClient(cluster_name=\"distributed-map-cluster\")\n",
    "bounded_queue = hz.get_queue(\"lab-distributed-queue\").blocking()\n",
    "print(\"Successful connection to Hazelcast!\")\n",
    "\n",
    "for item in range(1, 101):\n",
    "    bounded_queue.put(item)\n",
    "    print(f\"| Item: {item}\\t | Size: {bounded_queue.size()}\\t |\\n\"\n",
    "          f\"| Remaining Capacity: [{bounded_queue.remaining_capacity()}]\\t |\\n\")\n",
    "\n",
    "bounded_queue.put(-1)\n",
    "hz.shutdown()"
   ]
  },
  {
   "cell_type": "markdown",
   "id": "4939da5b-3b88-4097-a946-8e74f247c401",
   "metadata": {},
   "source": [
    "* reader-bounded_queue.py"
   ]
  },
  {
   "cell_type": "code",
   "execution_count": null,
   "id": "d8523a8e-341b-4fb8-b625-01f25aac3671",
   "metadata": {},
   "outputs": [],
   "source": [
    "import hazelcast\n",
    "\n",
    "hz = hazelcast.HazelcastClient(cluster_name=\"distributed-map-cluster\")\n",
    "bounded_queue = hz.get_queue(\"lab-distributed-queue\").blocking()\n",
    "print(\"Successful connection to Hazelcast!\")\n",
    "\n",
    "item = 0\n",
    "\n",
    "while item != -1:\n",
    "    item = bounded_queue.take()\n",
    "    print(f\"> Taken from queue: {item} \\n\")\n",
    "\n",
    "else:\n",
    "    bounded_queue.put(-1)\n",
    "    hz.shutdown()"
   ]
  },
  {
   "cell_type": "markdown",
   "id": "4d8174a9-a1d9-47e2-9927-f0ad9cedd27e",
   "metadata": {},
   "source": [
    "---"
   ]
  },
  {
   "cell_type": "code",
   "execution_count": null,
   "id": "e1d961a0-59d9-4dc5-a8cc-bbe3f8fe396f",
   "metadata": {},
   "outputs": [],
   "source": []
  }
 ],
 "metadata": {
  "kernelspec": {
   "display_name": "Python 3 (ipykernel)",
   "language": "python",
   "name": "python3"
  },
  "language_info": {
   "codemirror_mode": {
    "name": "ipython",
    "version": 3
   },
   "file_extension": ".py",
   "mimetype": "text/x-python",
   "name": "python",
   "nbconvert_exporter": "python",
   "pygments_lexer": "ipython3",
   "version": "3.10.2"
  }
 },
 "nbformat": 4,
 "nbformat_minor": 5
}
