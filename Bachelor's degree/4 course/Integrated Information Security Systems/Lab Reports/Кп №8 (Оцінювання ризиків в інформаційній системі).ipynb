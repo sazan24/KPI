{
 "cells": [
  {
   "cell_type": "markdown",
   "id": "cb3d76a6-8a0b-4a78-86ee-2abb624999e1",
   "metadata": {},
   "source": [
    "#### 1.   Виявимо та оцінимо ризики для інформаційної системи, розглянутої в деяких із попередніх комп'ютерних практикумів  ↓ "
   ]
  },
  {
   "cell_type": "markdown",
   "id": "ae58e109-9053-4f8c-8990-9b9ceb7ef227",
   "metadata": {},
   "source": [
    "<img src=\"https://github.com/sazan24/KPI/blob/main/Bachelor's%20degree/4%20course/Integrated%20Information%20Security%20Systems/Scheme%20of%20network%20connections.png?raw=true\" alt=\"Scheme of network connections\">"
   ]
  },
  {
   "cell_type": "markdown",
   "id": "eddf6da3-f1b1-43d3-9c86-302cde48150c",
   "metadata": {},
   "source": [
    "Основними ресурсами в цій мережі є сервер СКБД, сховище даних, сервер пошти, веб-сервер. Окрім того, ще присутній сегмент робочих та клієнстьких місць."
   ]
  },
  {
   "cell_type": "markdown",
   "id": "6be159cc-dde1-4aab-ba5a-0e9af1ceeea4",
   "metadata": {},
   "source": [
    "**Отже, відповідно можемо проаналізувати деякі загрози та оцінити ризики від їх реалізації для наявних об'єктів в даній інформаційній системі.**"
   ]
  },
  {
   "cell_type": "markdown",
   "id": "813b5f60-f59c-47e5-a834-04ed4b445f09",
   "metadata": {},
   "source": [
    "#### 2. Наведемо (обчислимо) показники, які характеризують виявлені ризики:"
   ]
  },
  {
   "cell_type": "markdown",
   "id": "1bb6952a-3bca-4bf0-a34a-1cac8ab26320",
   "metadata": {},
   "source": [
    "• **а) У кількісному аспекті**"
   ]
  },
  {
   "cell_type": "markdown",
   "id": "8e25e222-9c1a-469a-b286-9e7d6ecc9957",
   "metadata": {},
   "source": [
    "<img src=\"https://github.com/sazan24/KPI/blob/main/Bachelor's%20degree/4%20course/Integrated%20Information%20Security%20Systems/Quantitative%20risk%20assessment.jpg?raw=true\" alt=\"Qualitative risk assessment\">"
   ]
  },
  {
   "cell_type": "markdown",
   "id": "061ac327-74c0-4075-8927-0cb0b1cb0786",
   "metadata": {},
   "source": [
    "• **б) У якісному аспекті**"
   ]
  },
  {
   "cell_type": "markdown",
   "id": "1b408605-8969-4cc9-acbf-daf939516746",
   "metadata": {},
   "source": [
    "<img src=\"https://github.com/sazan24/KPI/blob/main/Bachelor's%20degree/4%20course/Integrated%20Information%20Security%20Systems/Qualitative%20risk%20assessment.jpg?raw=true\" alt=\"Quantitative risk assessment\">"
   ]
  },
  {
   "cell_type": "markdown",
   "id": "3e000e43-ddc4-491c-aad2-c065bbed89d7",
   "metadata": {},
   "source": [
    "**Шкала переведення до показників якісної оцінки ризику виглядала наступним чином:**\n",
    "\n",
    "* Нормований ризик більше за 0.25, то оцінка \"**Critical**\"\n",
    "\n",
    "* Нормований ризик більше за 0.2, то оцінка \"**High**\"\n",
    "\n",
    "* Нормований ризик більше за 0.1, то оцінка \"**Medium**\"\n",
    "\n",
    "* Усі інші значення нормованого ризику мають оцінку \"**Low**\""
   ]
  },
  {
   "cell_type": "code",
   "execution_count": null,
   "id": "6c9ee2f1-03a1-4eea-8f28-55f7a5b76aab",
   "metadata": {},
   "outputs": [],
   "source": []
  }
 ],
 "metadata": {
  "kernelspec": {
   "display_name": "Python 3 (ipykernel)",
   "language": "python",
   "name": "python3"
  },
  "language_info": {
   "codemirror_mode": {
    "name": "ipython",
    "version": 3
   },
   "file_extension": ".py",
   "mimetype": "text/x-python",
   "name": "python",
   "nbconvert_exporter": "python",
   "pygments_lexer": "ipython3",
   "version": "3.10.2"
  }
 },
 "nbformat": 4,
 "nbformat_minor": 5
}
