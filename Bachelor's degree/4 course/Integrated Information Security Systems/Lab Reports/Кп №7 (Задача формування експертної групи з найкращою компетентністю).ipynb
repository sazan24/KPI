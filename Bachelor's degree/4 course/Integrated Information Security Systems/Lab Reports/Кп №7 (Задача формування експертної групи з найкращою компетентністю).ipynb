{
 "cells": [
  {
   "cell_type": "markdown",
   "id": "e43c781a-486c-4563-a84e-303c4f9d76a6",
   "metadata": {},
   "source": [
    "#### 1. Запишемо вихідні значення для обчислення кількості експертів та одержану кількість експертів у групі ↓"
   ]
  },
  {
   "cell_type": "markdown",
   "id": "31cd20b8-56db-47bc-bf80-74d2cd2e0cdb",
   "metadata": {},
   "source": [
    "<center> <img src=\"https://github.com/sazan24/KPI/blob/main/Bachelor's%20degree/4%20course/Integrated%20Information%20Security%20Systems/Determining%20the%20number%20of%20experts.png?raw=true\" alt=\"Determining the number of experts\"> </center>"
   ]
  },
  {
   "cell_type": "markdown",
   "id": "38fa5407-73cb-4bc9-aeb9-f0734e9524ec",
   "metadata": {},
   "source": [
    "Отже, як можна помітити вище на зображенні, для наперед визначених вихідних значень, було обчислено, що в експертній групі повинно бути **3 (троє)** людей."
   ]
  },
  {
   "cell_type": "markdown",
   "id": "e12b8445-8eb2-4737-ad1e-723057d9cff7",
   "metadata": {},
   "source": [
    "#### 2. Побудуємо матрицю Сааті та запишемо відповідні значення коефіцієнтів авторитетності ↓"
   ]
  },
  {
   "cell_type": "code",
   "execution_count": 1,
   "id": "853e7dab-57f2-438c-9533-7fb1494679f9",
   "metadata": {},
   "outputs": [
    {
     "name": "stdin",
     "output_type": "stream",
     "text": [
      "Уведіть значення кількості експертів, отриманого на попередьному кроці обрахунків:\n",
      "   >>>  3\n"
     ]
    }
   ],
   "source": [
    "number_of_experts = int(input(\"Уведіть значення кількості експертів, отриманого на попередьному кроці обрахунків:\\n   >>> \"))"
   ]
  },
  {
   "cell_type": "code",
   "execution_count": 2,
   "id": "3301810e-5105-4fc4-9088-1b982ce201f1",
   "metadata": {},
   "outputs": [
    {
     "data": {
      "text/html": [
       "<div>\n",
       "<style scoped>\n",
       "    .dataframe tbody tr th:only-of-type {\n",
       "        vertical-align: middle;\n",
       "    }\n",
       "\n",
       "    .dataframe tbody tr th {\n",
       "        vertical-align: top;\n",
       "    }\n",
       "\n",
       "    .dataframe thead th {\n",
       "        text-align: right;\n",
       "    }\n",
       "</style>\n",
       "<table border=\"1\" class=\"dataframe\">\n",
       "  <thead>\n",
       "    <tr style=\"text-align: right;\">\n",
       "      <th></th>\n",
       "      <th>1</th>\n",
       "      <th>2</th>\n",
       "      <th>3</th>\n",
       "      <th>Sum of the values ​​per line</th>\n",
       "      <th>Сoefficient of authority</th>\n",
       "    </tr>\n",
       "  </thead>\n",
       "  <tbody>\n",
       "    <tr>\n",
       "      <th>1</th>\n",
       "      <td>1.00</td>\n",
       "      <td>0.28</td>\n",
       "      <td>0.39</td>\n",
       "      <td>1.67</td>\n",
       "      <td>0.11</td>\n",
       "    </tr>\n",
       "    <tr>\n",
       "      <th>2</th>\n",
       "      <td>3.56</td>\n",
       "      <td>1.00</td>\n",
       "      <td>0.20</td>\n",
       "      <td>4.76</td>\n",
       "      <td>0.32</td>\n",
       "    </tr>\n",
       "    <tr>\n",
       "      <th>3</th>\n",
       "      <td>2.55</td>\n",
       "      <td>4.96</td>\n",
       "      <td>1.00</td>\n",
       "      <td>8.51</td>\n",
       "      <td>0.57</td>\n",
       "    </tr>\n",
       "  </tbody>\n",
       "</table>\n",
       "</div>"
      ],
      "text/plain": [
       "      1     2     3  Sum of the values ​​per line  Сoefficient of authority\n",
       "1  1.00  0.28  0.39                          1.67                      0.11\n",
       "2  3.56  1.00  0.20                          4.76                      0.32\n",
       "3  2.55  4.96  1.00                          8.51                      0.57"
      ]
     },
     "execution_count": 2,
     "metadata": {},
     "output_type": "execute_result"
    }
   ],
   "source": [
    "import pandas as pd\n",
    "import numpy as np\n",
    "\n",
    "def get_saaty_matrix(num):\n",
    "    expert = [i for i in range(1, num + 1)]\n",
    "    df = pd.DataFrame(columns=expert, index=expert)\n",
    "    \n",
    "    # Попарне оцінювання “емулюється” програмою випадковим чином\n",
    "    assessment = np.random.uniform(1, 10, (num, num)) / np.random.uniform(1, 10, (num, num))\n",
    "    \n",
    "    for i in range(0, num):\n",
    "        assessment[i, i] = 1\n",
    "        for j in range(0, num):\n",
    "            assessment[i, j] = 1 / assessment[j, i]\n",
    "\n",
    "    # На виході, окрім матриці Сааті, також формується вектор вагових коефіцієнтів\n",
    "    df[expert] = np.round(assessment, 2)\n",
    "    df[\"Sum of the values ​​per line\"] = np.round(df.sum(axis=1), 2)\n",
    "    df[\"Сoefficient of authority\"] = np.round(df[\"Sum of the values ​​per line\"] / sum(df[\"Sum of the values ​​per line\"]), 2)\n",
    "    \n",
    "    return df\n",
    "\n",
    "# На вхід подається кількість експертів, визначена на попередньому кроці\n",
    "df = get_saaty_matrix(number_of_experts)\n",
    "\n",
    "df"
   ]
  },
  {
   "cell_type": "markdown",
   "id": "4c1955f5-05a9-42df-82e9-7b862fb12375",
   "metadata": {},
   "source": [
    "#### 3. Продемонструємо послідовність команд для розв’язку ЗЦЛП ↓"
   ]
  },
  {
   "cell_type": "markdown",
   "id": "d6b78682-3f64-4ddc-8ea2-f1e3357c9bc5",
   "metadata": {},
   "source": [
    "* Умовний буджет: **1600**\n",
    "* Вартість за всіх: 2100\n",
    "\n",
    "Тобто H = 1600 у.о. - це гранична сума, яку можна витратити на роботу експертної групи."
   ]
  },
  {
   "cell_type": "code",
   "execution_count": 3,
   "id": "29e1fad3-c4c6-4b62-8e4d-1a7d640d28c0",
   "metadata": {},
   "outputs": [
    {
     "data": {
      "text/html": [
       "<div>\n",
       "<style scoped>\n",
       "    .dataframe tbody tr th:only-of-type {\n",
       "        vertical-align: middle;\n",
       "    }\n",
       "\n",
       "    .dataframe tbody tr th {\n",
       "        vertical-align: top;\n",
       "    }\n",
       "\n",
       "    .dataframe thead th {\n",
       "        text-align: right;\n",
       "    }\n",
       "</style>\n",
       "<table border=\"1\" class=\"dataframe\">\n",
       "  <thead>\n",
       "    <tr style=\"text-align: right;\">\n",
       "      <th></th>\n",
       "      <th>1</th>\n",
       "      <th>2</th>\n",
       "      <th>3</th>\n",
       "      <th>Sum of the values ​​per line</th>\n",
       "      <th>Сoefficient of authority</th>\n",
       "      <th>Conditional cost of engaging</th>\n",
       "    </tr>\n",
       "  </thead>\n",
       "  <tbody>\n",
       "    <tr>\n",
       "      <th>1</th>\n",
       "      <td>1.00</td>\n",
       "      <td>0.28</td>\n",
       "      <td>0.39</td>\n",
       "      <td>1.67</td>\n",
       "      <td>0.11</td>\n",
       "      <td>550</td>\n",
       "    </tr>\n",
       "    <tr>\n",
       "      <th>2</th>\n",
       "      <td>3.56</td>\n",
       "      <td>1.00</td>\n",
       "      <td>0.20</td>\n",
       "      <td>4.76</td>\n",
       "      <td>0.32</td>\n",
       "      <td>800</td>\n",
       "    </tr>\n",
       "    <tr>\n",
       "      <th>3</th>\n",
       "      <td>2.55</td>\n",
       "      <td>4.96</td>\n",
       "      <td>1.00</td>\n",
       "      <td>8.51</td>\n",
       "      <td>0.57</td>\n",
       "      <td>750</td>\n",
       "    </tr>\n",
       "  </tbody>\n",
       "</table>\n",
       "</div>"
      ],
      "text/plain": [
       "      1     2     3  Sum of the values ​​per line  Сoefficient of authority  \\\n",
       "1  1.00  0.28  0.39                          1.67                      0.11   \n",
       "2  3.56  1.00  0.20                          4.76                      0.32   \n",
       "3  2.55  4.96  1.00                          8.51                      0.57   \n",
       "\n",
       "  Conditional cost of engaging  \n",
       "1                          550  \n",
       "2                          800  \n",
       "3                          750  "
      ]
     },
     "execution_count": 3,
     "metadata": {},
     "output_type": "execute_result"
    }
   ],
   "source": [
    "# Додавання нового стовпця \"Conditional cost of engaging\"\n",
    "conditional_costs = [\"550\", \"800\", \"750\"]\n",
    "df[\"Conditional cost of engaging\"] = conditional_costs\n",
    "\n",
    "df"
   ]
  },
  {
   "attachments": {},
   "cell_type": "markdown",
   "id": "09fa0138-9220-4977-9e45-21284575c846",
   "metadata": {},
   "source": [
    "<center> <img src=\"https://github.com/sazan24/KPI/blob/main/Bachelor's%20degree/4%20course/Integrated%20Information%20Security%20Systems/Solving%20the%20LPP%20using%200-1%20Integer.jpg?raw=true\" alt=\"Solving the LPP using 0-1 Integer\"> </center>"
   ]
  },
  {
   "cell_type": "markdown",
   "id": "974ecfa8-ff2c-44e4-8066-3d77b4761cf3",
   "metadata": {},
   "source": [
    "Посилання на повноцінний розв'язок даної ЗЦЛП - https://cbom.atozmath.com/CBOM/Simplex.aspx?q=01&q1=4%601%60MAX%60Z%60x1%2cx2%2cx3%2cx4%600.11%2c0.32%2c0.57%2c250%60550%2c800%2c750%2c0%60%3c%3d%601600%60%60D%60false%60true%60false%60true%60false%60false%60true%601&dp=4&do=1#PrevPart"
   ]
  },
  {
   "cell_type": "markdown",
   "id": "63a3680a-d6e3-42b8-9982-a0b934f84d1f",
   "metadata": {},
   "source": [
    "<center> <img src=\"https://github.com/sazan24/KPI/blob/main/Bachelor's%20degree/4%20course/Integrated%20Information%20Security%20Systems/Solving%20the%20LPP%20using%200-1%20Integer%20(Part%20%E2%84%961).jpg?raw=true\" alt=\"Solving the LPP using 0-1 Integer (Part №1)\"> </center>"
   ]
  },
  {
   "cell_type": "markdown",
   "id": "cee9df42-9d9c-4c42-9d06-5f3cccfadeed",
   "metadata": {},
   "source": [
    "<center> <img src=\"https://github.com/sazan24/KPI/blob/main/Bachelor's%20degree/4%20course/Integrated%20Information%20Security%20Systems/Solving%20the%20LPP%20using%200-1%20Integer%20(Part%20%E2%84%962).jpg?raw=true\" alt=\"Solving the LPP using 0-1 Integer (Part №2)\"> </center>"
   ]
  },
  {
   "cell_type": "markdown",
   "id": "1dab7513-5be3-4aab-8328-ea111c8a49ca",
   "metadata": {},
   "source": [
    "<center> <img src=\"https://github.com/sazan24/KPI/blob/main/Bachelor's%20degree/4%20course/Integrated%20Information%20Security%20Systems/Solving%20the%20LPP%20using%200-1%20Integer%20(Part%20%E2%84%963).jpg?raw=true\" alt=\"Solving the LPP using 0-1 Integer (Part №3)\"> </center>"
   ]
  },
  {
   "cell_type": "markdown",
   "id": "4e5ad8ba-1919-44c0-ac0c-0d57b0bb7b71",
   "metadata": {},
   "source": [
    "<center> <img src=\"https://github.com/sazan24/KPI/blob/main/Bachelor's%20degree/4%20course/Integrated%20Information%20Security%20Systems/Solving%20the%20LPP%20using%200-1%20Integer%20(Part%20%E2%84%964).jpg?raw=true\" alt=\"Solving the LPP using 0-1 Integer (Part №4)\"> </center>"
   ]
  },
  {
   "cell_type": "markdown",
   "id": "84f2a703-ba9a-4d86-a1f6-7e1f26f88550",
   "metadata": {},
   "source": [
    "**\"The 0-1 Integer programming problem algorithm thus terminated and the optimal integer solution is:\n",
    "$Z_B = 0.89$ and $x_1= 0, x_2 = 1, x_3 = 1$\"**"
   ]
  },
  {
   "cell_type": "markdown",
   "id": "fa021fb6-601d-4153-832d-f6e62dad3b21",
   "metadata": {},
   "source": [
    "Дана відповідь є цілком логічною, так як по кваліфікованості, то 2-ий та 3-ий експерт кращі за першого. До того ж, маючи 1600 умовних одиниць бюджету, буде достатньо, щоб їм обом заплатити сумарно 1550 у.о. і ще й залишяться кошти в розмірі 50 у.о. А от 1-и відповідно до того, що не такий компетентний у своїй справі, як інші, тому він, зважаючи на бюджет, буде не потрібний."
   ]
  },
  {
   "cell_type": "code",
   "execution_count": null,
   "id": "ea7a7e90-e28b-49a5-818c-457838881bbe",
   "metadata": {},
   "outputs": [],
   "source": []
  }
 ],
 "metadata": {
  "kernelspec": {
   "display_name": "Python 3 (ipykernel)",
   "language": "python",
   "name": "python3"
  },
  "language_info": {
   "codemirror_mode": {
    "name": "ipython",
    "version": 3
   },
   "file_extension": ".py",
   "mimetype": "text/x-python",
   "name": "python",
   "nbconvert_exporter": "python",
   "pygments_lexer": "ipython3",
   "version": "3.10.2"
  }
 },
 "nbformat": 4,
 "nbformat_minor": 5
}
