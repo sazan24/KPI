{
 "cells": [
  {
   "cell_type": "markdown",
   "id": "eb6ae104-839d-4450-bbf0-601c2666a8d0",
   "metadata": {},
   "source": [
    "#### 1.   Оберемо систему розташування засобів захисту для мережі, основні об'єкти якої були визначені 10-им варіантом ↓"
   ]
  },
  {
   "cell_type": "markdown",
   "id": "1189b8fa-679b-4e28-9a49-c91590d7cd40",
   "metadata": {},
   "source": [
    "<img src=\"https://github.com/sazan24/KPI/blob/main/Bachelor's%20degree/4%20course/Integrated%20Information%20Security%20Systems/Scheme%20of%20network%20connections.png?raw=true\" alt=\"Scheme of network connections\">"
   ]
  },
  {
   "cell_type": "markdown",
   "id": "a5266015-887e-44d1-88c5-4e363c3610fb",
   "metadata": {},
   "source": [
    "Основними ресурсами в цій мережі є сервер СКБД, сховище даних, сервер пошти, веб-сервер. Окрім того, ще присутній сегмент робочих та клієнстьких місць."
   ]
  },
  {
   "cell_type": "markdown",
   "id": "19a88252-4228-4847-8445-dbd912016a2f",
   "metadata": {},
   "source": [
    "#### 2.  Для атак, що можуть бути застосовані в даній мережі, побудуємо моделі атак *Attack_rule* ↓"
   ]
  },
  {
   "cell_type": "markdown",
   "id": "57537d18-e649-4284-a8ae-7a528f72d719",
   "metadata": {},
   "source": [
    "► **Збір інформації про ціль (A):**\n",
    "\n",
    "* *Src_privilege: root*\n",
    "\n",
    "* *Dst_priv: access*\n",
    "\n",
    "* *Vuls: вразливість віддаленого сканування*\n",
    "\n",
    "* *Protocols: TCP, UDP, HTTP, і т.д.*\n",
    "\n",
    "* *Rslt_priv: читання інформації про ціль*\n",
    "\n",
    "* *Rslt_proto: none*\n",
    "\n",
    "* *Rslt_vuls: збір інформації для подальших атак*"
   ]
  },
  {
   "cell_type": "markdown",
   "id": "d8866d30-e4a1-4bd2-b2a5-1e614e4b0568",
   "metadata": {},
   "source": [
    "► **Активна атака DDoS (B):**\n",
    "\n",
    "* *Src_privilege: user*\n",
    "\n",
    "* *Dst_priv: access*\n",
    "\n",
    "* *Vuls: вразливість перенавантаження веб-сервера*\n",
    "\n",
    "* *Protocols: TCP, UDP, HTTP, і т.д.*\n",
    "\n",
    "* *Rslt_priv: відсутній*\n",
    "\n",
    "* *Rslt_proto: відсутній*\n",
    "\n",
    "* *Rslt_vuls: збій веб-сервера через перенавантаження*"
   ]
  },
  {
   "cell_type": "markdown",
   "id": "6573f0fd-29b2-4003-98fd-a10f2de5446e",
   "metadata": {},
   "source": [
    "► **Ін'єкція зловмисного скрипта XSS (C):**\n",
    "\n",
    "* *Src_privilege: user*\n",
    "\n",
    "* *Dst_priv: access*\n",
    "\n",
    "* *Vuls: вразливість некоректної обробки вхідних даних*\n",
    "\n",
    "* *Protocols: HTTP і інші*\n",
    "\n",
    "* *Rslt_priv: виконання зловмисного коду в контексті користувача*\n",
    "\n",
    "* *Rslt_proto: HTTP, TCP, UDP*\n",
    "\n",
    "* *Rslt_vuls: зловмисник може перенаправляти користувачів на зловмисний веб-контент та виконувати інші зловмисні дії на їх комп'ютерах*"
   ]
  },
  {
   "cell_type": "markdown",
   "id": "cea81b20-5aba-4296-bca5-6ae3162294c0",
   "metadata": {},
   "source": [
    "#### 3.  Задамо граф атак, можливих в даній мережі ↓"
   ]
  },
  {
   "cell_type": "markdown",
   "id": "1a0d11e0-f38a-4511-bb7b-b0714b1b9104",
   "metadata": {},
   "source": [
    "<img src=\"https://github.com/sazan24/KPI/blob/main/Bachelor's%20degree/4%20course/Integrated%20Information%20Security%20Systems/Attack%20graph.jpg?raw=true\">"
   ]
  },
  {
   "cell_type": "markdown",
   "id": "60334bd1-3370-4a7f-9735-784f1283e63f",
   "metadata": {},
   "source": [
    "#### 4.  Сформуємо відповідні фактори складності для кожного  ↓"
   ]
  },
  {
   "cell_type": "markdown",
   "id": "7f3888b5-ae00-407f-9862-aa7704ada61a",
   "metadata": {},
   "source": [
    "<table style=\"width:100%\">\n",
    "  <tr>\n",
    "    <th style=\"text-align:left\">Правило</th>\n",
    "    <th style=\"text-align:left\">Фактор $D(Pi)$</th>\n",
    "  </tr>\n",
    "  <tr>\n",
    "    <td style=\"text-align:left\">A</td>\n",
    "    <td style=\"text-align:left\">0.8</td>\n",
    "  </tr>\n",
    "  <tr>\n",
    "    <td style=\"text-align:left\">B</td>\n",
    "    <td style=\"text-align:left\">0.9</td>\n",
    "  </tr>\n",
    "  <tr>\n",
    "    <td style=\"text-align:left\">C</td>\n",
    "    <td style=\"text-align:left\">0.3</td>\n",
    "  </tr>\n",
    "</table>"
   ]
  },
  {
   "cell_type": "markdown",
   "id": "a1833aef-58dd-4f60-9773-c6a13912819e",
   "metadata": {},
   "source": [
    "#### 5.  Обчислимо рівень захищеності системи  ↓ "
   ]
  },
  {
   "cell_type": "markdown",
   "id": "d0c7d582-221a-43f9-a9b6-6633ae4f8bef",
   "metadata": {},
   "source": [
    "☼ Як пама'ятаємо, загальна формула має наступний вигляд: $S(M) = \\prod_{i=1}^{k}(1 - D(Pi)) = \\prod_{i=1}^{k}(1 - \\prod_{i=1}^{m}(Di_j))$"
   ]
  },
  {
   "cell_type": "markdown",
   "id": "35fc00cb-0dd5-4730-901e-cf526690d3a8",
   "metadata": {},
   "source": [
    "☼ Тому виконаємо відповідні розрахунки: $S(M) = (1 - D(P_1) * D(P_2))(1 - D(P_3)) = (1 - 0.8 * 0.9)(1 - 0.3) = 0.196$ "
   ]
  },
  {
   "cell_type": "markdown",
   "id": "f86e3cb5-27c9-4520-94e0-4f9dc635cd5f",
   "metadata": {},
   "source": [
    "☼ Отже, показник рівня захищеності системи має наступне значення: $S(M) = 0.196$"
   ]
  },
  {
   "cell_type": "code",
   "execution_count": null,
   "id": "a604189a-957f-430d-9092-56bf5701e05b",
   "metadata": {},
   "outputs": [],
   "source": []
  }
 ],
 "metadata": {
  "kernelspec": {
   "display_name": "Python 3 (ipykernel)",
   "language": "python",
   "name": "python3"
  },
  "language_info": {
   "codemirror_mode": {
    "name": "ipython",
    "version": 3
   },
   "file_extension": ".py",
   "mimetype": "text/x-python",
   "name": "python",
   "nbconvert_exporter": "python",
   "pygments_lexer": "ipython3",
   "version": "3.10.2"
  }
 },
 "nbformat": 4,
 "nbformat_minor": 5
}
