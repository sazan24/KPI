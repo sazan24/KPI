{
 "cells": [
  {
   "cell_type": "markdown",
   "id": "d09b605c-6236-4684-a6b7-9fa41c7e0fb9",
   "metadata": {},
   "source": [
    "#### 1.  Сформулюємо запитання по визначенню рівня захищеності комп'ютерних класів ФТІ ↓"
   ]
  },
  {
   "cell_type": "markdown",
   "id": "aff462f9-9a43-4960-bd87-6164122b83e3",
   "metadata": {},
   "source": [
    "* 1. Чи зберігаються резервні копії конфігураційних файлів активного мережевого обладнання мережі ФТІ у захищеному сховищі.\n",
    "* 2. Чи часто виконується резервне копіювання даних (дані виконаних студентами лабораторних робіт, навчального ПЗ тощо)?\n",
    "* 3. Чи виконується антивірусний контроль робочих станцій, серверів?\n",
    "* 4. Чи завжди видаляються непотрібні файли?"
   ]
  },
  {
   "cell_type": "markdown",
   "id": "2febe7e0-cb06-4109-9c33-ac3b6b404936",
   "metadata": {},
   "source": [
    "* 5. Чи проводяться тренінги з інформаційної гігієни та протидії фішингу?\n",
    "* 6. Чи проводяться систематичні тестування на проникнення?\n",
    "* 7. Чи в повному обсязі визначено об'єкти, що потрібно захищати?\n",
    "* 8. Чи впроваджені засоби фізичної безпеки?"
   ]
  },
  {
   "cell_type": "markdown",
   "id": "8ea414b3-fc62-43a4-be2c-785a383ebe7c",
   "metadata": {},
   "source": [
    "#### 2.  Проранжируємо по важливості сформульовані нами запитання та надамо шкалу для відповідей на запитання ↓"
   ]
  },
  {
   "cell_type": "markdown",
   "id": "79aa2850-29c3-4282-aa7f-58b03acd3df0",
   "metadata": {},
   "source": [
    "► **Ранжування важливості:**"
   ]
  },
  {
   "cell_type": "markdown",
   "id": "fe6794d6-93f0-45b9-95d7-ff3762234b7c",
   "metadata": {},
   "source": [
    "<center> <img src=\"https://github.com/sazan24/KPI/blob/main/Bachelor's%20degree/4%20course/Integrated%20Information%20Security%20Systems/Ranking%20of%20importance.png?raw=true\" alt=\"Ranking of importance\"> </center>"
   ]
  },
  {
   "cell_type": "markdown",
   "id": "24ed02c6-65fd-48c1-b1b3-4cfc0bc405e1",
   "metadata": {},
   "source": [
    "► **Шкала для відповідей:**"
   ]
  },
  {
   "cell_type": "markdown",
   "id": "4f2d9e4b-05a6-45c1-a405-456f891946af",
   "metadata": {},
   "source": [
    "                        ◙ Нехай **для всіх 8-и запитань (n = 8)**, кожне із них оцінюється **по шкалі від 0 до 5**"
   ]
  },
  {
   "cell_type": "markdown",
   "id": "8dc30348-ff85-45d9-99ef-9512bb1877bb",
   "metadata": {},
   "source": [
    "#### 3.  Замість кожного студента, як «співробітника», дамо відповідь на питання по визначеній шкалі та внесемо результат до таблиці ↓"
   ]
  },
  {
   "attachments": {},
   "cell_type": "markdown",
   "id": "b4d249ef-9f35-4b40-bbd5-8a2aa57b6cd1",
   "metadata": {},
   "source": [
    "<center> <img src=\"https://github.com/sazan24/KPI/blob/main/Bachelor's%20degree/4%20course/Integrated%20Information%20Security%20Systems/The%20result%20of%20the%20survey.png?raw=true\" alt=\"Ranking of importance\"> </center>"
   ]
  },
  {
   "cell_type": "markdown",
   "id": "0d70582a-0bdb-463c-87ac-b86d008d0e2a",
   "metadata": {},
   "source": [
    "#### 4.  За зразком із використанням теоретичних відомостей здійснимо оцінку рівня захищеності комп'ютерних класів ↓"
   ]
  },
  {
   "cell_type": "markdown",
   "id": "3b7c280a-0e42-4454-b74d-7361e454846a",
   "metadata": {},
   "source": [
    "<center> <img src=\"https://github.com/sazan24/KPI/blob/main/Bachelor's%20degree/4%20course/Integrated%20Information%20Security%20Systems/Assessment%20of%20the%20security%20level.png?raw=true\" alt=\"Assessment of the security level\"> </center>"
   ]
  },
  {
   "cell_type": "code",
   "execution_count": null,
   "id": "4c8e64a8-4064-49f1-81e9-0dbc8214063e",
   "metadata": {},
   "outputs": [],
   "source": []
  }
 ],
 "metadata": {
  "kernelspec": {
   "display_name": "Python 3 (ipykernel)",
   "language": "python",
   "name": "python3"
  },
  "language_info": {
   "codemirror_mode": {
    "name": "ipython",
    "version": 3
   },
   "file_extension": ".py",
   "mimetype": "text/x-python",
   "name": "python",
   "nbconvert_exporter": "python",
   "pygments_lexer": "ipython3",
   "version": "3.10.2"
  }
 },
 "nbformat": 4,
 "nbformat_minor": 5
}
