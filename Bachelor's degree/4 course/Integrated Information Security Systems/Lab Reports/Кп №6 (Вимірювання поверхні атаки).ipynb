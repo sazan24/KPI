{
 "cells": [
  {
   "cell_type": "markdown",
   "id": "27dc50f1-c7d1-4ee9-95e0-bf6643f43272",
   "metadata": {},
   "source": [
    "#### 1.   Розглянемо види атак, притаманні для ОС Linux ↓"
   ]
  },
  {
   "cell_type": "markdown",
   "id": "173cafa6-aeb7-4b84-bc6c-fdde8489cde0",
   "metadata": {},
   "source": [
    "* ***Open TCP/UDP socket***\n",
    "\n",
    "* ***Open remote procedure call (RPC) endpoint***\n",
    "\n",
    "* ***Service running as root***\n",
    "\n",
    "* ***Service running as non-root***\n",
    "\n",
    "* ***Setuid (setgid) root program***\n",
    "\n",
    "* ***Enabled local user account***\n",
    "\n",
    "* ***User id=root or group id=root account***\n",
    "\n",
    "* ***Unpassworded account***\n",
    "\n",
    "* ***Nobody account***\n",
    "\n",
    "* ***Weak file permission***\n",
    "\n",
    "* ***Script enabled***\n",
    "\n",
    "* ***Symbolic link***\n",
    "\n",
    "* ***Httpd module***\n",
    "\n",
    "* ***Dynamic web page***"
   ]
  },
  {
   "cell_type": "markdown",
   "id": "d9ff0c75-7022-45b4-adf3-c6d4a01bb5f5",
   "metadata": {},
   "source": [
    "#### 2.   Задамо ваги для різних ($w_i$) видів атак та відповідно частоту їх здійснення ($n$) ↓"
   ]
  },
  {
   "cell_type": "markdown",
   "id": "c856a998-b731-4fb4-bfd8-a15f796fcf26",
   "metadata": {},
   "source": [
    "<img src=\"https://github.com/sazan24/KPI/blob/main/Bachelor's%20degree/4%20course/Integrated%20Information%20Security%20Systems/Linux%20Attacks.jpg?raw=true\" alt=\"Linux Attacks\">"
   ]
  },
  {
   "cell_type": "markdown",
   "id": "7dea8486-4813-460f-80dc-f5e954617657",
   "metadata": {},
   "source": [
    "#### 3. По аналогії розглянемо машину під управлінням іншої ОС (наприклад Windows) і на основі опублікованих звітів про вразливості складемо ієрархію атак для ресурсів певного виду для відповідної системи ↓"
   ]
  },
  {
   "cell_type": "markdown",
   "id": "87a8c9cd-6a3f-4fe0-b6b6-e3999343b518",
   "metadata": {},
   "source": [
    "<img src=\"https://github.com/sazan24/KPI/blob/main/Bachelor's%20degree/4%20course/Integrated%20Information%20Security%20Systems/Windows%20Attacks.jpg?raw=true\" alt=\"Windows Attacks\">"
   ]
  },
  {
   "cell_type": "markdown",
   "id": "6f9150db-a371-4fed-aef2-630823cd212f",
   "metadata": {},
   "source": [
    "► **Побудуємо відповідне ієрархічне дерево атак для ресурсів певного виду для Windows :^)**"
   ]
  },
  {
   "cell_type": "markdown",
   "id": "aef1bff7-57bf-4b09-bfce-767b179405a6",
   "metadata": {},
   "source": [
    "<img src=\"https://github.com/sazan24/KPI/blob/main/Bachelor's%20degree/4%20course/Integrated%20Information%20Security%20Systems/Hierarchy%20for%20Windows.jpg?raw=true\" alt=\"Hierarchy for Windows\">"
   ]
  },
  {
   "cell_type": "markdown",
   "id": "5131312e-5ab6-408e-8aa0-32fdd032dc77",
   "metadata": {},
   "source": [
    "#### 4.  Порівняємо відповідні робочі місця під управлінням різних ОС по видах атак та по зважених сумах $Рк$ ↓"
   ]
  },
  {
   "cell_type": "markdown",
   "id": "05b164ab-45ac-45e0-bb7c-08d68c25b9a2",
   "metadata": {},
   "source": [
    "<img src=\"https://github.com/sazan24/KPI/blob/main/Bachelor's%20degree/4%20course/Integrated%20Information%20Security%20Systems/Comparison%20Windows%20and%20Linux.jpg?raw=true\" alt=\"Comparison Windows and Linux\">"
   ]
  },
  {
   "cell_type": "markdown",
   "id": "be56694f-1a4e-43d8-9dbc-a436a3c02c0a",
   "metadata": {},
   "source": [
    "#### 5. Визначимо поверхні атак для відповідних двох машин під управлінням різних ОС ↓"
   ]
  },
  {
   "cell_type": "markdown",
   "id": "24696306-92a4-427a-a12c-6cadbca219d4",
   "metadata": {},
   "source": [
    "$P_k = \\sum_{i=1}^{k}n(S_i) \\times w_i$, де $n(S_i)$ позначає кількість випадків атаки класу $S_i$, а значення $w_i$ - це вага надана для $S_i$"
   ]
  },
  {
   "cell_type": "markdown",
   "id": "20ae8091-eaf8-4eaf-8374-b5d83e2a0445",
   "metadata": {},
   "source": [
    "<img src=\"https://github.com/sazan24/KPI/blob/main/Bachelor's%20degree/4%20course/Integrated%20Information%20Security%20Systems/Attack%20surface.jpg?raw=true\" alt=\"Attack Surface\">"
   ]
  },
  {
   "cell_type": "markdown",
   "id": "defa8f68-3d4b-40c1-8481-27b360f13ee0",
   "metadata": {},
   "source": [
    "**☼ Отже, показник поверхні атаки для відповідних оперційних систем виглядає наступним чином:**\n",
    "\n",
    "* Linux → **4,71**\n",
    "\n",
    "* Windows → **4,81**"
   ]
  },
  {
   "cell_type": "code",
   "execution_count": null,
   "id": "27e0dacc-5e5a-47ff-bb9d-9319190cea84",
   "metadata": {},
   "outputs": [],
   "source": []
  }
 ],
 "metadata": {
  "kernelspec": {
   "display_name": "Python 3 (ipykernel)",
   "language": "python",
   "name": "python3"
  },
  "language_info": {
   "codemirror_mode": {
    "name": "ipython",
    "version": 3
   },
   "file_extension": ".py",
   "mimetype": "text/x-python",
   "name": "python",
   "nbconvert_exporter": "python",
   "pygments_lexer": "ipython3",
   "version": "3.10.2"
  }
 },
 "nbformat": 4,
 "nbformat_minor": 5
}
