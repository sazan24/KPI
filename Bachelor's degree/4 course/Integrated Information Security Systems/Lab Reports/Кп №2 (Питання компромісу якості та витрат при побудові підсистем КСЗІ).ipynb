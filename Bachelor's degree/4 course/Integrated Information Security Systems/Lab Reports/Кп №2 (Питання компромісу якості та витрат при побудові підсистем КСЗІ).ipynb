{
 "cells": [
  {
   "cell_type": "markdown",
   "id": "943d601f-1005-4747-9060-feeb075a8aed",
   "metadata": {},
   "source": [
    "#### 1. Запропонуваємо розташування засобів захисту для мережі, об’єкти захисту якої визначені 10-им варіантом ↓"
   ]
  },
  {
   "cell_type": "markdown",
   "id": "39f3343b-5eb4-4dd6-8805-f209dc85ff7e",
   "metadata": {},
   "source": [
    "<img src=\"https://github.com/sazan24/KPI/blob/main/Bachelor's%20degree/4%20course/Integrated%20Information%20Security%20Systems/Scheme%20of%20network%20connections.png?raw=true\" alt=\"Scheme of network connections\">"
   ]
  },
  {
   "cell_type": "markdown",
   "id": "8be11d08-b993-4d75-bec3-f800ae08cc0a",
   "metadata": {},
   "source": [
    "#### 2. Сформулюємо проблему (2.1), (2.2) у виді задачі оптимізації із зазначенням семантики постановки задачі ↓"
   ]
  },
  {
   "cell_type": "markdown",
   "id": "31a3dda1-656e-44fe-bc5c-96f02c93f8fa",
   "metadata": {},
   "source": [
    "##### • 1) **Визначаємо елементи**, між якими потрібно знайти компроміс:"
   ]
  },
  {
   "cell_type": "markdown",
   "id": "1f5e1a5e-602f-475d-a2dd-2fb486a9be32",
   "metadata": {},
   "source": [
    "Нехай: $x_1$ - кількість апаратних IDS/IPS у заданій системі, $x_2$ – кількість ММЕ, $x_3$ - кількість маршрутизаторів із функціям ММЕ та IDS/IPS."
   ]
  },
  {
   "cell_type": "markdown",
   "id": "53fd562a-91cc-4e5b-91d5-20a28fcb0392",
   "metadata": {},
   "source": [
    "##### • 2) Нехай етапи, для яких буде визначатись **питання компромісу**, виглядадимуть наступним чином:"
   ]
  },
  {
   "cell_type": "markdown",
   "id": "49f90f3b-b724-44d7-9798-1dd68ecb9dc8",
   "metadata": {},
   "source": [
    "– Закупівля засобів захисту"
   ]
  },
  {
   "cell_type": "markdown",
   "id": "14fbbd14-ed36-4207-97a0-dc5600bed408",
   "metadata": {},
   "source": [
    "– Встановлення засобів захисту"
   ]
  },
  {
   "cell_type": "markdown",
   "id": "ad272049-a47e-4f57-9056-3714de66e99a",
   "metadata": {},
   "source": [
    "– Розгортання системи"
   ]
  },
  {
   "cell_type": "markdown",
   "id": "2afefbc3-24fd-4aef-9c5a-f3694ac8db6c",
   "metadata": {},
   "source": [
    "– Адміністрування та підтримка системи"
   ]
  },
  {
   "cell_type": "markdown",
   "id": "66ab85a7-dde9-4319-975e-011f015785b3",
   "metadata": {},
   "source": [
    "##### • 3) Визначимо (**вводимо на власний розсуд**) вартості засобів захисту на різних етапах життя системи:"
   ]
  },
  {
   "cell_type": "markdown",
   "id": "d0c300d1-5d0c-42dc-80a2-0a5337060204",
   "metadata": {},
   "source": [
    "Отримуємо відповідну матрицю вартості реалізації процесів для кожного із \n",
    "компонентів системи захисту:"
   ]
  },
  {
   "cell_type": "markdown",
   "id": "306408ff-2951-4791-88d3-4f2b1e601fe7",
   "metadata": {},
   "source": [
    "C = \n",
    "$\\begin{pmatrix}\n",
    "2 & 5 & 7\\\\\n",
    "3 & 1 & 3\\\\\n",
    "2 & 2 & 5\\\\\n",
    "4 & 1 & 6\n",
    "\\end{pmatrix}$"
   ]
  },
  {
   "cell_type": "markdown",
   "id": "b9dac340-7a78-4cae-8e29-e22ae54db84b",
   "metadata": {},
   "source": [
    "##### • 4) Визначимо обмеження на затрати на кожному етапі (знову ж таки, **вводимо на власний розсуд**):"
   ]
  },
  {
   "cell_type": "markdown",
   "id": "495e4b83-bb6c-41d2-b08d-f4fe0dc4b482",
   "metadata": {},
   "source": [
    "$c_1^{max} = 16; c_2^{max} = 8; c_3^{max} = 10; c_4^{max} = 14$\n"
   ]
  },
  {
   "cell_type": "markdown",
   "id": "776da510-259a-445a-9fb6-2a53c35de1b5",
   "metadata": {},
   "source": [
    "##### • 5) Визначимо обмеження на затрати на кожному етапі (знову ж таки, **вводимо на власний розсуд**):"
   ]
  },
  {
   "cell_type": "markdown",
   "id": "3eb8e256-1358-44b9-94ea-de8fd1f46ac5",
   "metadata": {},
   "source": [
    "$s_1 = 0.4; s_2 = 0.3; s_3 = 0.3$"
   ]
  },
  {
   "cell_type": "markdown",
   "id": "45420c8a-a690-42be-ac55-c614dfaece13",
   "metadata": {},
   "source": [
    "##### • 6) Нарешті, отримуємо **задачу лінійного програмування** у вигляді формул 2.1 та 2.2:"
   ]
  },
  {
   "cell_type": "markdown",
   "id": "5040c12c-08d3-4527-a3c0-43d4a281b234",
   "metadata": {},
   "source": [
    "Обмеження на загальну суму витрат по кожному процесу:"
   ]
  },
  {
   "cell_type": "markdown",
   "id": "d0bf13b7-7c4b-4a36-8819-4428287035bf",
   "metadata": {},
   "source": [
    "► $2x_1 + 5x_2 + 7x_3 \\le 16$"
   ]
  },
  {
   "cell_type": "markdown",
   "id": "7c12a0ac-824c-43a4-98fa-d49b59a8872d",
   "metadata": {},
   "source": [
    "► $3x_1 + 5x_2 + 6x_3 \\le 8$"
   ]
  },
  {
   "cell_type": "markdown",
   "id": "088bc699-9da0-4691-9903-ceebf928201a",
   "metadata": {},
   "source": [
    "► $5x_1 + 2x_2 +7x_3 \\le 10$"
   ]
  },
  {
   "cell_type": "markdown",
   "id": "e68ee727-518a-47e1-8ae7-f3e5c0d4d14f",
   "metadata": {},
   "source": [
    "► $4x_1 + x_2 + 8x_3 \\le 14$"
   ]
  },
  {
   "cell_type": "markdown",
   "id": "3261c24f-92b6-471e-9261-d500b0375250",
   "metadata": {},
   "source": [
    "Максимізована функція:"
   ]
  },
  {
   "cell_type": "markdown",
   "id": "ca638ac6-f972-419b-9421-6ca003e35f8c",
   "metadata": {},
   "source": [
    "○ $f(\\vec{x}) = 0.4x_1 +0.3x_2 + 0.3x_3 → max$"
   ]
  },
  {
   "cell_type": "markdown",
   "id": "1bcf4a2d-44eb-466f-9ffb-2843a32659e2",
   "metadata": {},
   "source": [
    "##### • 7) Вирішуємо задачу за допомогою **симплекс-методу**, використовуючи при цьому онлайн-калькулятор:"
   ]
  },
  {
   "cell_type": "markdown",
   "id": "420fa53f-8326-43a4-8613-d201edfb0841",
   "metadata": {},
   "source": [
    "Переглянемо наступний результат обчислень за посиланням, після чого запишемо у наступнній клітинці загальний висновок: https://linprog.com/en/main-simplex-method/result;queryParams=%7B%22n%22:4,%22m%22:3,%22max_min%22:1,%22values%22:%5B%5B%222%22,%225%22,%227%22,%2216%22%5D,%5B%223%22,%221%22,%223%22,%228%22%5D,%5B%222%22,%222%22,%225%22,%2210%22%5D,%5B%224%22,%221%22,%226%22,%2214%22%5D%5D,%22function%22:%5B%220.4%22,%220.3%22,%2203%22%5D,%22equalSign%22:%5B%222%22,%222%22,%222%22,%222%22%5D%7D"
   ]
  },
  {
   "cell_type": "markdown",
   "id": "fd75e9f0-5e78-4cd5-a3ed-c9fa1c8509bf",
   "metadata": {},
   "source": [
    "**Оптимальне значення функції $f = 6$ досягається у точці з координатами $(0, 0, 2)$**. Відповідно, буде зрозуміло, скільки яких засобів варто використовувати для КСЗІ. У даному випадку є сенс придбати 2 маршрутизатори із підтримкою ММЕ та IDS/IPS, які будуть виконувати ті самі функції, що й окремо ММЕ та IDS/IPS."
   ]
  },
  {
   "cell_type": "markdown",
   "id": "7784250e-650c-4c6e-a2a0-484b7a1eeb32",
   "metadata": {},
   "source": [
    "#### 3. Побудуємо матрицю Сааті та виконаємо відповідні обчислення вагових коефіцієнтів ↓"
   ]
  },
  {
   "cell_type": "markdown",
   "id": "0e4aa0ea-5dc6-4ffc-9c69-475eba0af3f1",
   "metadata": {},
   "source": [
    "##### 3.1. Заповнимо (експертним методом) матрицю Сааті для порівняння важливості вимог: «Швидкодія доступу до ДМЗ», «Захист від НСД внутрішньої мережі», «Надійність роботи ДМЗ», «Витрати на обладнання», «Легкість адміністрування»."
   ]
  },
  {
   "cell_type": "markdown",
   "id": "aabc178e-0f8a-4257-83d7-bd9538a33c1c",
   "metadata": {},
   "source": [
    "<table style=\"width:100%\">\n",
    "  <tr>\n",
    "    <th style=\"text-align:left\"><u>---|Показники|---</u></th>\n",
    "    <th style=\"text-align:center\">Швидкодія</th>\n",
    "    <th style=\"text-align:center\">Захист</th>\n",
    "    <th style=\"text-align:center\">Надійність</th>\n",
    "    <th style=\"text-align:center\">Витрати</th>\n",
    "    <th style=\"text-align:center\">Легкість</th>\n",
    "  </tr>\n",
    "  <tr>\n",
    "    <td><strong>Швидкодія доступу до ДМЗ</strong></td>\n",
    "    <td style=\"text-align:center\">1</td>\n",
    "    <td style=\"text-align:center\">3</td>\n",
    "    <td style=\"text-align:center\">5</td>\n",
    "    <td style=\"text-align:center\">7</td>\n",
    "    <td style=\"text-align:center\">9</td>\n",
    "  </tr>\n",
    "  <tr>\n",
    "    <td><strong>Захист від НСД внутрішньої мережі</strong></td>\n",
    "    <td style=\"text-align:center\">1/3</td>\n",
    "    <td style=\"text-align:center\">1</td>\n",
    "    <td style=\"text-align:center\">3</td>\n",
    "    <td style=\"text-align:center\">5</td>\n",
    "    <td style=\"text-align:center\">3</td>\n",
    "  </tr>\n",
    "  <tr>\n",
    "    <td><strong>Надійність роботи ДМЗ</strong></td>\n",
    "    <td style=\"text-align:center\">1/5</td>\n",
    "    <td style=\"text-align:center\">1/3</td>\n",
    "    <td style=\"text-align:center\">1</td>\n",
    "    <td style=\"text-align:center\">5</td>\n",
    "    <td style=\"text-align:center\">3</td>\n",
    "  </tr>\n",
    "  <tr>\n",
    "    <td><strong>Витрати на обладнання</strong></td>\n",
    "    <td style=\"text-align:center\">1/7</td>\n",
    "    <td style=\"text-align:center\">1/5</td>\n",
    "    <td style=\"text-align:center\">1/5</td>\n",
    "    <td style=\"text-align:center\">1</td>\n",
    "    <td style=\"text-align:center\">1/3</td>\n",
    "  </tr>\n",
    "  <tr>\n",
    "    <td><strong>Легкість адміністрування</strong></td>\n",
    "    <td style=\"text-align:center\">1/9</td>\n",
    "    <td style=\"text-align:center\">1/3</td>\n",
    "    <td style=\"text-align:center\">1/3</td>\n",
    "    <td style=\"text-align:center\">3</td>\n",
    "    <td style=\"text-align:center\">1</td>\n",
    "  </tr>\n",
    "</table>"
   ]
  },
  {
   "cell_type": "markdown",
   "id": "35f7972f-010a-4c0d-b5f5-ce057d1bc69f",
   "metadata": {},
   "source": [
    "##### 3.2. Обрахуємо вагові коефіцієнти 1-им способом, де необхідно підраховувати суми по рядках, далі суми нормуються, і, таким чином, одержимо ваги $w_i$."
   ]
  },
  {
   "cell_type": "code",
   "execution_count": 1,
   "id": "adebe6ba-53d8-4124-9582-344ed64b593b",
   "metadata": {},
   "outputs": [
    {
     "name": "stdout",
     "output_type": "stream",
     "text": [
      "Загальна сума: 53.52063492063491\n",
      "Сума всіх ваг: 1.0\n",
      "Рядок 1: Сума = 25.00, Вага = 0.47\n",
      "Рядок 2: Сума = 12.33, Вага = 0.23\n",
      "Рядок 3: Сума = 9.53, Вага = 0.18\n",
      "Рядок 4: Сума = 1.88, Вага = 0.04\n",
      "Рядок 5: Сума = 4.78, Вага = 0.09\n"
     ]
    }
   ],
   "source": [
    "import numpy as np\n",
    "\n",
    "# Матриця попарних порівнянь Сааті\n",
    "A = np.array([[1, 3, 5, 7, 9],\n",
    "              [1/3, 1, 3, 5, 3],\n",
    "              [1/5, 1/3, 1, 5, 3],\n",
    "              [1/7, 1/5, 1/5, 1, 1/3],\n",
    "              [1/9, 1/3, 1/3, 3, 1]])\n",
    "\n",
    "# Підрахуємо суми по кожному рядку матриці A\n",
    "row_sums = A.sum(axis=1)\n",
    "print(f\"Загальна сума: {sum(row_sums)}\")\n",
    "\n",
    "# Обчислимо ваги для кожного рядка\n",
    "weights = row_sums / row_sums.sum()\n",
    "print(f\"Сума всіх ваг: {sum(weights)}\")\n",
    "\n",
    "# Виведемо значення \"Сума\" та \"Вага\" для кожного рядка\n",
    "for i, weight in enumerate(weights):\n",
    "    print(f\"Рядок {i+1}: Сума = {row_sums[i]:.2f}, Вага = {weight:.2f}\")"
   ]
  },
  {
   "cell_type": "markdown",
   "id": "1d648bcb-1dfb-41f4-a7d6-e0238c2ba727",
   "metadata": {},
   "source": [
    "<table style=\"width:100%\">\n",
    "  <tr>\n",
    "    <th style=\"text-align:left\"><u>---|Показники|---</u></th>\n",
    "    <th style=\"text-align:center\">Швидкодія</th>\n",
    "    <th style=\"text-align:center\">Захист</th>\n",
    "    <th style=\"text-align:center\">Надійність</th>\n",
    "    <th style=\"text-align:center\">Витрати</th>\n",
    "    <th style=\"text-align:center\">Легкість</th>\n",
    "    <th style=\"text-align:center\">Сума</th>\n",
    "    <th style=\"text-align:center\">Вага</th>\n",
    "  </tr>\n",
    "  <tr>\n",
    "    <td><strong>Швидкодія доступу до ДМЗ</strong></td>\n",
    "    <td style=\"text-align:center\">1</td>\n",
    "    <td style=\"text-align:center\">3</td>\n",
    "    <td style=\"text-align:center\">5</td>\n",
    "    <td style=\"text-align:center\">7</td>\n",
    "    <td style=\"text-align:center\">9</td>\n",
    "    <td style=\"text-align:center\">25</td>\n",
    "    <td style=\"text-align:center\">0.47</td>\n",
    "  </tr>\n",
    "  <tr>\n",
    "    <td><strong>Захист від НСД внутрішньої мережі</strong></td>\n",
    "    <td style=\"text-align:center\">1/3</td>\n",
    "    <td style=\"text-align:center\">1</td>\n",
    "    <td style=\"text-align:center\">3</td>\n",
    "    <td style=\"text-align:center\">5</td>\n",
    "    <td style=\"text-align:center\">3</td>\n",
    "    <td style=\"text-align:center\">12.33</td>\n",
    "    <td style=\"text-align:center\">0.23</td>\n",
    "  </tr>\n",
    "  <tr>\n",
    "    <td><strong>Надійність роботи ДМЗ</strong></td>\n",
    "    <td style=\"text-align:center\">1/5</td>\n",
    "    <td style=\"text-align:center\">1/3</td>\n",
    "    <td style=\"text-align:center\">1</td>\n",
    "    <td style=\"text-align:center\">5</td>\n",
    "    <td style=\"text-align:center\">3</td>\n",
    "    <td style=\"text-align:center\">9.53</td>\n",
    "    <td style=\"text-align:center\">0.18</td>\n",
    "  </tr>\n",
    "  <tr>\n",
    "    <td><strong>Витрати на обладнання</strong></td>\n",
    "    <td style=\"text-align:center\">1/7</td>\n",
    "    <td style=\"text-align:center\">1/5</td>\n",
    "    <td style=\"text-align:center\">1/5</td>\n",
    "    <td style=\"text-align:center\">1</td>\n",
    "    <td style=\"text-align:center\">1/3</td>\n",
    "    <td style=\"text-align:center\">1.88</td>\n",
    "    <td style=\"text-align:center\">0.04</td>\n",
    "  </tr>\n",
    "  <tr>\n",
    "    <td><strong>Легкість адміністрування</strong></td>\n",
    "    <td style=\"text-align:center\">1/9</td>\n",
    "    <td style=\"text-align:center\">1/3</td>\n",
    "    <td style=\"text-align:center\">1/3</td>\n",
    "    <td style=\"text-align:center\">3</td>\n",
    "    <td style=\"text-align:center\">1</td>\n",
    "    <td style=\"text-align:center\">4.78</td>\n",
    "    <td style=\"text-align:center\">0.09</td>\n",
    "  </tr>\n",
    "  <tr>\n",
    "    <td></td>\n",
    "    <td></td>\n",
    "    <td></td>\n",
    "    <td></td>\n",
    "    <td></td>\n",
    "    <td style=\"text-align:center\"><strong>Усього:</strong></td>\n",
    "    <td style=\"text-align:center\"><strong>53,52</strong></td>\n",
    "    <td style=\"text-align:center\"><strong>1,00</strong></td>\n",
    "  </tr>\n",
    "</table>"
   ]
  },
  {
   "cell_type": "markdown",
   "id": "ebda4aca-ee22-4509-9b37-b07f0f318900",
   "metadata": {},
   "source": [
    "##### 3.3. Обрахуємо вагові коефіцієнти 1-им способом, де необхідно розв’язати задачу знаходження власних значень матриці Сааті: **(А-λІ)х = 0**."
   ]
  },
  {
   "cell_type": "code",
   "execution_count": 2,
   "id": "aba4ac2d-2bad-4258-b733-b0b5bdde6cb1",
   "metadata": {},
   "outputs": [
    {
     "name": "stdout",
     "output_type": "stream",
     "text": [
      "Вага для показника №1: 0.53-0.00j\n",
      "Вага для показника №2: 0.23-0.00j\n",
      "Вага для показника №3: 0.14-0.00j\n",
      "Вага для показника №4: 0.04-0.00j\n",
      "Вага для показника №5: 0.07-0.00j\n",
      "Сума усіх ваг: 1.00+0.00j\n"
     ]
    }
   ],
   "source": [
    "# Знаходимо власні значення та власні вектори\n",
    "eigenvalues, eigenvectors = np.linalg.eig(A)\n",
    "\n",
    "# Знаходимо індекс максимального власного значення\n",
    "max_eigenvalue_index = np.argmax(eigenvalues)\n",
    "\n",
    "# Вибираємо відповідний власний вектор\n",
    "max_eigenvector = eigenvectors[:, max_eigenvalue_index]\n",
    "\n",
    "# Нормалізуємо власний вектор\n",
    "normalized_max_eigenvector = max_eigenvector / np.sum(max_eigenvector)\n",
    "\n",
    "# Ваги показників\n",
    "weights = normalized_max_eigenvector\n",
    "\n",
    "# Виведемо ваги кожного показника\n",
    "for i, weight in enumerate(weights):\n",
    "    print(f\"Вага для показника №{i + 1}: {weight:.2f}\")\n",
    "    \n",
    "print(f\"Сума усіх ваг: {np.sum(weights):.2f}\")"
   ]
  },
  {
   "cell_type": "markdown",
   "id": "1a73abd7-3e16-46b2-95f6-35c6e884a84c",
   "metadata": {},
   "source": [
    "<table style=\"width:100%\">\n",
    "  <tr>\n",
    "    <th style=\"text-align:left\"><u>---|Показники|---</u></th>\n",
    "    <th style=\"text-align:center\">Швидкодія</th>\n",
    "    <th style=\"text-align:center\">Захист</th>\n",
    "    <th style=\"text-align:center\">Надійність</th>\n",
    "    <th style=\"text-align:center\">Витрати</th>\n",
    "    <th style=\"text-align:center\">Легкість</th>\n",
    "    <th style=\"text-align:center\">Вага</th>\n",
    "  </tr>\n",
    "  <tr>\n",
    "    <td><strong>Швидкодія доступу до ДМЗ</strong></td>\n",
    "    <td style=\"text-align:center\">1</td>\n",
    "    <td style=\"text-align:center\">3</td>\n",
    "    <td style=\"text-align:center\">5</td>\n",
    "    <td style=\"text-align:center\">7</td>\n",
    "    <td style=\"text-align:center\">9</td>\n",
    "    <td style=\"text-align:center\">0.53</td>\n",
    "  </tr>\n",
    "  <tr>\n",
    "    <td><strong>Захист від НСД внутрішньої мережі</strong></td>\n",
    "    <td style=\"text-align:center\">1/3</td>\n",
    "    <td style=\"text-align:center\">1</td>\n",
    "    <td style=\"text-align:center\">3</td>\n",
    "    <td style=\"text-align:center\">5</td>\n",
    "    <td style=\"text-align:center\">3</td>\n",
    "    <td style=\"text-align:center\">0.23</td>\n",
    "  </tr>\n",
    "  <tr>\n",
    "    <td><strong>Надійність роботи ДМЗ</strong></td>\n",
    "    <td style=\"text-align:center\">1/5</td>\n",
    "    <td style=\"text-align:center\">1/3</td>\n",
    "    <td style=\"text-align:center\">1</td>\n",
    "    <td style=\"text-align:center\">5</td>\n",
    "    <td style=\"text-align:center\">3</td>\n",
    "    <td style=\"text-align:center\">0.14</td>\n",
    "  </tr>\n",
    "  <tr>\n",
    "    <td><strong>Витрати на обладнання</strong></td>\n",
    "    <td style=\"text-align:center\">1/7</td>\n",
    "    <td style=\"text-align:center\">1/5</td>\n",
    "    <td style=\"text-align:center\">1/5</td>\n",
    "    <td style=\"text-align:center\">1</td>\n",
    "    <td style=\"text-align:center\">1/3</td>\n",
    "    <td style=\"text-align:center\">0.04</td>\n",
    "  </tr>\n",
    "  <tr>\n",
    "    <td><strong>Легкість адміністрування</strong></td>\n",
    "    <td style=\"text-align:center\">1/9</td>\n",
    "    <td style=\"text-align:center\">1/3</td>\n",
    "    <td style=\"text-align:center\">1/3</td>\n",
    "    <td style=\"text-align:center\">3</td>\n",
    "    <td style=\"text-align:center\">1</td>\n",
    "    <td style=\"text-align:center\">0.07</td>\n",
    "  </tr>\n",
    "  <tr>\n",
    "    <td></td>\n",
    "    <td></td>\n",
    "    <td></td>\n",
    "    <td></td>\n",
    "    <td></td>\n",
    "    <td style=\"text-align:center\"><strong>Усього:</strong></td>\n",
    "    <td style=\"text-align:center\"><strong>1,00</strong></td>\n",
    "  </tr>\n",
    "</table>"
   ]
  },
  {
   "cell_type": "code",
   "execution_count": null,
   "id": "0f1d0849-1e73-47dd-81ad-4817fe2b9607",
   "metadata": {},
   "outputs": [],
   "source": []
  }
 ],
 "metadata": {
  "kernelspec": {
   "display_name": "Python 3 (ipykernel)",
   "language": "python",
   "name": "python3"
  },
  "language_info": {
   "codemirror_mode": {
    "name": "ipython",
    "version": 3
   },
   "file_extension": ".py",
   "mimetype": "text/x-python",
   "name": "python",
   "nbconvert_exporter": "python",
   "pygments_lexer": "ipython3",
   "version": "3.10.2"
  }
 },
 "nbformat": 4,
 "nbformat_minor": 5
}
